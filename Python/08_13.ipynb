{
 "cells": [
  {
   "cell_type": "markdown",
   "metadata": {},
   "source": [
    "# ✨ 다중 선형 회귀 ✨\n",
    "y = a1x1 + a2x2+ b    \n",
    "=> 이제부터 경사하강법으로 기울기(a1, a2)를 구하자!"
   ]
  },
  {
   "cell_type": "code",
   "execution_count": 2,
   "metadata": {},
   "outputs": [],
   "source": [
    "import tensorflow as tf"
   ]
  },
  {
   "cell_type": "code",
   "execution_count": 3,
   "metadata": {},
   "outputs": [],
   "source": [
    "data = [[2, 0, 81], [4, 4, 93], [6, 2, 91], [8, 3, 97]]\n",
    "\n",
    "x1 = [x_row1[0] for x_row1 in data]\n",
    "x2 = [x_row2[1] for x_row2 in data]    # 새로 추가되는 값\n",
    "y_data = [y_row[2] for y_row in data]\n",
    "\n",
    "# 기울기 a와 y절편 b의 값을 임의로 정한다.\n",
    "# 단, 기울기의 범위는 0 ~ 10 사이이며, y절편은 0 ~ 100 사이에서 변하게 한다.\n",
    "# 정수 전체의 범위를 주면 시간이 너무 오래 걸림.\n",
    "# 더 복잡한 분석을 할 때, 기울기가 수렴을 안하면 범위를 바꿔줘야 한다.\n",
    "a1 = tf.Variable(tf.random_uniform([1], 0, 10, dtype = tf.float64, seed = 0))\n",
    "a2 = tf.Variable(tf.random_uniform([1], 0, 10, dtype = tf.float64, seed = 0))    # 새로 추가되는 값\n",
    "b = tf.Variable(tf.random_uniform([1], 0, 100, dtype = tf.float64, seed = 0))\n",
    "\n",
    "# y에 대한 일차 방정식 a1x1 + a2x2 + b의 식을 세운다.\n",
    "y = a1 * x1 + a2 * x2 + b"
   ]
  },
  {
   "cell_type": "code",
   "execution_count": 5,
   "metadata": {},
   "outputs": [
    {
     "name": "stdout",
     "output_type": "stream",
     "text": [
      "Epoch : 0, RMSE = 49.1842, 기울기 a1 = 7.5270, 기울기 a2 = 7.8160, y절편 b = 80.5980\n",
      "Epoch : 100, RMSE = 1.8368, 기울기 a1 = 1.1306, 기울기 a2 = 2.1316, y절편 b = 78.5119\n",
      "Epoch : 200, RMSE = 1.8370, 기울기 a1 = 1.1879, 기울기 a2 = 2.1487, y절편 b = 78.1057\n",
      "Epoch : 300, RMSE = 1.8370, 기울기 a1 = 1.2122, 기울기 a2 = 2.1571, y절편 b = 77.9352\n",
      "Epoch : 400, RMSE = 1.8370, 기울기 a1 = 1.2226, 기울기 a2 = 2.1607, y절편 b = 77.8636\n",
      "Epoch : 500, RMSE = 1.8370, 기울기 a1 = 1.2269, 기울기 a2 = 2.1622, y절편 b = 77.8335\n",
      "Epoch : 600, RMSE = 1.8370, 기울기 a1 = 1.2288, 기울기 a2 = 2.1628, y절편 b = 77.8208\n",
      "Epoch : 700, RMSE = 1.8370, 기울기 a1 = 1.2295, 기울기 a2 = 2.1631, y절편 b = 77.8155\n",
      "Epoch : 800, RMSE = 1.8370, 기울기 a1 = 1.2299, 기울기 a2 = 2.1632, y절편 b = 77.8133\n",
      "Epoch : 900, RMSE = 1.8370, 기울기 a1 = 1.2300, 기울기 a2 = 2.1632, y절편 b = 77.8124\n",
      "Epoch : 1000, RMSE = 1.8370, 기울기 a1 = 1.2301, 기울기 a2 = 2.1633, y절편 b = 77.8120\n",
      "Epoch : 1100, RMSE = 1.8370, 기울기 a1 = 1.2301, 기울기 a2 = 2.1633, y절편 b = 77.8118\n",
      "Epoch : 1200, RMSE = 1.8370, 기울기 a1 = 1.2301, 기울기 a2 = 2.1633, y절편 b = 77.8117\n",
      "Epoch : 1300, RMSE = 1.8370, 기울기 a1 = 1.2301, 기울기 a2 = 2.1633, y절편 b = 77.8117\n",
      "Epoch : 1400, RMSE = 1.8370, 기울기 a1 = 1.2301, 기울기 a2 = 2.1633, y절편 b = 77.8117\n",
      "Epoch : 1500, RMSE = 1.8370, 기울기 a1 = 1.2301, 기울기 a2 = 2.1633, y절편 b = 77.8117\n",
      "Epoch : 1600, RMSE = 1.8370, 기울기 a1 = 1.2301, 기울기 a2 = 2.1633, y절편 b = 77.8117\n",
      "Epoch : 1700, RMSE = 1.8370, 기울기 a1 = 1.2301, 기울기 a2 = 2.1633, y절편 b = 77.8117\n",
      "Epoch : 1800, RMSE = 1.8370, 기울기 a1 = 1.2301, 기울기 a2 = 2.1633, y절편 b = 77.8117\n",
      "Epoch : 1900, RMSE = 1.8370, 기울기 a1 = 1.2301, 기울기 a2 = 2.1633, y절편 b = 77.8117\n",
      "Epoch : 2000, RMSE = 1.8370, 기울기 a1 = 1.2301, 기울기 a2 = 2.1633, y절편 b = 77.8117\n"
     ]
    }
   ],
   "source": [
    "# 텐서플로우 RMSE 함수\n",
    "rmse = tf.sqrt(tf.reduce_mean(tf.square( y - y_data)))\n",
    "\n",
    "# 학습률 값  => 얼만큼 이동시킬지를 정해준다. (너무 크게 잡으면 수렴하지 않고 발산 / 너무 작게 잡으면 오래걸림)\n",
    "# 기울기 부호 양수면 왼쪽, 음수면 오른쪽으로 이동\n",
    "learning_rate = 0.1  \n",
    "\n",
    "# RMSE 값을 최소로 하는 값 찾기\n",
    "gradient_decent = tf.train.GradientDescentOptimizer(learning_rate).minimize(rmse)  # a, b를 계속 조정하면서 그래프를 생성\n",
    "\n",
    "# 텐서플로우를 이용한 학습\n",
    "with tf.Session() as sess:\n",
    "    \n",
    "    # 변수 초기화\n",
    "    sess.run(tf.global_variables_initializer())\n",
    "    \n",
    "    # 2001번 실행 (0번째를 포함하므로)\n",
    "    for step in range(2001):\n",
    "        sess.run(gradient_decent)\n",
    "        \n",
    "        # 100번마다 결과 출력\n",
    "        if step % 100 == 0:\n",
    "            print(\"Epoch : %.f, RMSE = %.04f, 기울기 a1 = %.4f, 기울기 a2 = %.4f, y절편 b = %.4f\" %\n",
    "                 (step, sess.run(rmse), sess.run(a1), sess.run(a2), sess.run(b)))   😊🍕🍔🍜🍣🦪🍻🍅💕"
   ]
  },
  {
   "cell_type": "code",
   "execution_count": 7,
   "metadata": {},
   "outputs": [
    {
     "name": "stdout",
     "output_type": "stream",
     "text": [
      "141.97\n",
      "91.3899\n",
      "91.3853\n"
     ]
    }
   ],
   "source": [
    "# 실제 y값은 93\n",
    "\n",
    "# epoch 0일 때\n",
    "y1 = 7.5270 * 4 + 7.8160 * 4 + 80.5980\n",
    "print(y1)\n",
    "\n",
    "# epoch 500일 때\n",
    "y2 = 1.2269 * 4 + 2.1622 * 4 + 77.8335\n",
    "print(y2)\n",
    "\n",
    "# epoch 2000일 때\n",
    "y3 = 1.2301 * 4 + 2.1633 * 4 + 77.8117\n",
    "print(y3)"
   ]
  },
  {
   "cell_type": "code",
   "execution_count": 8,
   "metadata": {},
   "outputs": [
    {
     "name": "stdout",
     "output_type": "stream",
     "text": [
      "141.392\n",
      "89.5193\n",
      "89.5189\n"
     ]
    }
   ],
   "source": [
    "# 실제 y값은 91\n",
    "\n",
    "# epoch 0일 때\n",
    "y1 = 7.5270 * 6 + 7.8160 * 2 + 80.5980\n",
    "print(y1)\n",
    "\n",
    "# epoch 500일 때\n",
    "y2 = 1.2269 * 6 + 2.1622 * 2 + 77.8335\n",
    "print(y2)\n",
    "\n",
    "# epoch 2000일 때\n",
    "y3 = 1.2301 * 6 + 2.1633 * 2 + 77.8117\n",
    "print(y3)"
   ]
  },
  {
   "cell_type": "code",
   "execution_count": null,
   "metadata": {},
   "outputs": [],
   "source": []
  },
  {
   "cell_type": "markdown",
   "metadata": {},
   "source": [
    "# ✨ 혈중 지방 함량 예측 ✨"
   ]
  },
  {
   "cell_type": "code",
   "execution_count": 11,
   "metadata": {},
   "outputs": [],
   "source": [
    "import numpy as np"
   ]
  },
  {
   "cell_type": "code",
   "execution_count": 26,
   "metadata": {},
   "outputs": [],
   "source": [
    "Data_set = np.loadtxt(\"Blood_fat.csv\", delimiter = \",\")"
   ]
  },
  {
   "cell_type": "code",
   "execution_count": 42,
   "metadata": {
    "scrolled": true
   },
   "outputs": [
    {
     "name": "stdout",
     "output_type": "stream",
     "text": [
      "[354.0, 190.0, 405.0, 263.0, 451.0, 302.0, 288.0, 385.0, 402.0, 365.0, 209.0, 290.0, 346.0, 254.0, 395.0, 434.0, 220.0, 374.0, 308.0, 220.0, 311.0, 181.0, 274.0, 303.0, 244.0]\n"
     ]
    }
   ],
   "source": [
    "print(y_data)"
   ]
  },
  {
   "cell_type": "code",
   "execution_count": 54,
   "metadata": {},
   "outputs": [],
   "source": [
    "#x1 = Data_set[:, 0]\n",
    "#x2 = Data_set[:, 1]\n",
    "#y_data = Data_set[:, 2]\n",
    "\n",
    "x1 = [x_row1[0] for x_row1 in Data_set]\n",
    "x2 = [x_row2[1] for x_row2 in Data_set]\n",
    "y_data = [y_row[2] for y_row in Data_set]\n",
    "\n",
    "\n",
    "# 기울기 a와 y절편 b의 값을 임의로 정한다.\n",
    "# 단, 기울기의 범위는 0 ~ 10 사이이며, y절편은 0 ~ 100 사이에서 변하게 한다.\n",
    "# 정수 전체의 범위를 주면 시간이 너무 오래 걸림.\n",
    "# 더 복잡한 분석을 할 때, 기울기가 수렴을 안하면 범위를 바꿔줘야 한다.\n",
    "a1 = tf.Variable(tf.random_uniform([1], 0, 10, dtype = tf.float64, seed = 0))  # 균등분포로부터 난수값을 봔환 (동일한 확률로)\n",
    "a2 = tf.Variable(tf.random_uniform([1], 0, 10, dtype = tf.float64, seed = 0))\n",
    "b = tf.Variable(tf.random_uniform([1], 0, 100, dtype = tf.float64, seed = 0))\n",
    "\n",
    "# y에 대한 일차 방정식 a1x1 + a2x2 + b의 식을 세운다.\n",
    "y = a1 * x1 + a2 * x2 + b"
   ]
  },
  {
   "cell_type": "code",
   "execution_count": 56,
   "metadata": {
    "scrolled": true
   },
   "outputs": [
    {
     "name": "stdout",
     "output_type": "stream",
     "text": [
      "Epoch : 0, RMSE = 643.9146, 기울기 a1 = 7.9995, 기울기 a2 = 8.0295, y절편 b = 80.6891\n",
      "[1121.99907008  825.23881896 1018.1862386   881.53515981 1146.32760378\n",
      "  833.38835043  809.48002922  945.71089552 1170.32597052 1033.94502833\n",
      "  489.38174527 1041.5542866  1018.1862386   721.33594194 1034.42527118\n",
      " 1018.06617788  833.65848703 1122.14914597 1082.12185289 1009.64650981\n",
      "  922.01268056  801.33049775 1057.73328883  841.83803368  825.53897074]\n",
      "Epoch : 40000, RMSE = 41.3815, 기울기 a1 = 0.3885, 기울기 a2 = 5.2043, y절편 b = 80.5186\n",
      "[352.54895236 212.96406527 376.39339186 263.84148528 406.6882156\n",
      " 237.43155253 250.71348412 295.84419586 407.8536829  338.643973\n",
      " 215.91072163 276.4270669  376.39339186 222.36110587 415.6967671\n",
      " 357.13019333 280.77374921 376.62795051 369.86970539 289.32050939\n",
      " 342.83672488 226.24599687 306.09884288 310.0570361  261.12206158]\n",
      "Epoch : 80000, RMSE = 41.3814, 기울기 a1 = 0.3893, 기울기 a2 = 5.2046, y절편 b = 80.4501\n",
      "[352.56123899 212.95914508 376.39286294 263.83754767 406.69792006\n",
      " 237.42517521 250.70342682 295.8438094  407.86572545 338.6485812\n",
      " 215.87127885 276.43826932 376.39286294 222.34471202 415.69421854\n",
      " 357.1314536  280.76334622 376.63800066 369.87630599 289.32725246\n",
      " 342.82952734 226.23739668 306.10892026 310.04472868 261.11266841]\n",
      "Epoch : 120000, RMSE = 41.3813, 기울기 a1 = 0.3900, 기울기 a2 = 5.2049, y절편 b = 80.3835\n",
      "[352.573194   212.95435768 376.39234829 263.83371635 406.70736259\n",
      " 237.41897002 250.69364096 295.84343338 407.87744298 338.65306501\n",
      " 215.83290065 276.44916939 376.39234829 222.32876065 415.69173876\n",
      " 357.13267986 280.753224   376.64777954 369.88272845 289.33381353\n",
      " 342.82252408 226.22902862 306.11872564 310.03275345 261.10352877]\n",
      "Epoch : 160000, RMSE = 41.3812, 기울기 a1 = 0.3908, 기울기 a2 = 5.2053, y절편 b = 80.3187\n",
      "[352.58482633 212.9496995  376.39184754 263.82998843 406.71655026\n",
      " 237.41293231 250.68411922 295.8430675  407.88884424 338.65742781\n",
      " 215.79555829 276.45977526 376.39184754 222.31323981 415.68932591\n",
      " 357.13387301 280.74337499 376.65729449 369.88897756 289.34019752\n",
      " 342.81570983 226.22088641 306.12826637 310.02110144 261.09463581]\n",
      "Epoch : 200000, RMSE = 41.3811, 기울기 a1 = 0.3915, 기울기 a2 = 5.2056, y절편 b = 80.2557\n",
      "[352.59614471 212.94516704 376.3913603  263.82636113 406.72548995\n",
      " 237.40705756 250.67485449 295.84271149 407.89993777 338.66167285\n",
      " 215.75922383 276.47009488 376.3913603  222.29813788 415.68697818\n",
      " 357.13503397 280.73379181 376.66655262 369.895058   289.34640919\n",
      " 342.8090795  226.21296397 306.13754959 310.00976392 261.08598287]\n",
      "Epoch : 240000, RMSE = 41.3810, 기울기 a1 = 0.3922, 기울기 a2 = 5.2059, y절편 b = 80.1943\n",
      "[352.60715759 212.94075692 376.39088621 263.82283173 406.73418835\n",
      " 237.40134138 250.66583982 295.8423651  407.91073188 338.66580331\n",
      " 215.72387007 276.48013595 376.39088621 222.28344358 415.68469382\n",
      " 357.13616359 280.72446729 376.67556087 369.90097432 289.35245321\n",
      " 342.80262814 226.20525536 306.14658225 309.99873241 261.07756349]\n",
      "Epoch : 280000, RMSE = 41.3809, 기울기 a1 = 0.3929, 기울기 a2 = 5.2062, y절편 b = 80.1346\n",
      "[352.61787322 212.93646583 376.39042492 263.8193976  406.74265197\n",
      " 237.39577948 250.65706846 295.84202806 407.92123465 338.66982229\n",
      " 215.68947054 276.48990601 376.39042492 222.26914588 415.68247112\n",
      " 357.13726271 280.71539445 376.68432598 369.90673096 289.35833409\n",
      " 342.7963509  226.19775481 306.15537111 309.98799866 261.06937135]\n",
      "Epoch : 320000, RMSE = 41.3808, 기울기 a1 = 0.3935, 기울기 a2 = 5.2064, y절편 b = 80.0765\n",
      "[352.62829962 212.93229057 376.38997608 263.81605616 406.75088714\n",
      " 237.39036771 250.64853386 295.84170011 407.93145393 338.67373279\n",
      " 215.6559995  276.49941236 376.38997608 222.2552341  415.68030842\n",
      " 357.13833218 280.7065665  376.6928545  369.91233222 289.36405625\n",
      " 342.79024309 226.19045671 306.16392274 309.97755462 261.06140033]\n",
      "Epoch : 360000, RMSE = 41.3808, 기울기 a1 = 0.3942, 기울기 a2 = 5.2067, y절편 b = 80.0200\n",
      "[352.6384446  212.928228   376.38953936 263.81280491 406.75890004\n",
      " 237.38510201 250.64022961 295.84138101 407.94139738 338.67753774\n",
      " 215.62343189 276.50866212 376.38953936 222.24169782 415.67820408\n",
      " 357.13937277 280.69797682 376.70115283 369.91778229 289.36962395\n",
      " 342.78430014 226.1833556  306.17224356 309.96739248 261.05364446]\n",
      "Epoch : 400000, RMSE = 41.3807, 기울기 a1 = 0.3948, 기울기 a2 = 5.2070, y절편 b = 79.9650\n",
      "[352.64831575 212.92427508 376.38911442 263.80964141 406.76669666\n",
      " 237.37997843 250.63214951 295.84107053 407.95107244 338.68123999\n",
      " 215.59174333 276.51766222 376.38911442 222.2285269  415.67615655\n",
      " 357.14038528 280.689619   376.70922717 369.92308526 289.37504137\n",
      " 342.7785176  226.17644616 306.18033978 309.95750463 261.04609793]\n",
      "Epoch : 440000, RMSE = 41.3806, 기울기 a1 = 0.3954, 기울기 a2 = 5.2072, y절편 b = 79.9115\n",
      "[352.65792046 212.92042887 376.38870095 263.80656331 406.77428283\n",
      " 237.37499315 250.62428751 295.84076843 407.96048635 338.68484231\n",
      " 215.5609101  276.52641939 376.38870095 222.21571149 415.67416428\n",
      " 357.14137046 280.68148676 376.71708358 369.92824509 289.38031256\n",
      " 342.77289114 226.16972322 306.18821747 309.94788367 261.0387551 ]\n",
      "Epoch : 480000, RMSE = 41.3805, 기울기 a1 = 0.3960, 기울기 a2 = 5.2075, y절편 b = 79.8594\n",
      "[352.66726592 212.91668646 376.38829865 263.80356828 406.78166424\n",
      " 237.37014244 250.61663771 295.84047448 407.96964617 338.6883474\n",
      " 215.53090911 276.53494018 376.38829865 222.20324199 415.67222579\n",
      " 357.14232905 280.67357403 376.72472792 369.93326565 289.38544148\n",
      " 342.76741655 226.16318174 306.19588253 309.9385224  261.03161046]\n",
      "Epoch : 520000, RMSE = 41.3805, 기울기 a1 = 0.3966, 기울기 a2 = 5.2077, y절편 b = 79.8087\n",
      "[352.67635913 212.91304508 376.3879072  263.8006541  406.78884641\n",
      " 237.36542265 250.6091944  295.84018847 407.97855874 338.69175788\n",
      " 215.50171791 276.54323099 376.3879072  222.19110906 415.67033962\n",
      " 357.14326176 280.66587488 376.73216593 369.93815069 289.39043196\n",
      " 342.76208973 226.15681683 306.20334069 309.92941381 261.02465867]\n",
      "Epoch : 560000, RMSE = 41.3804, 기울기 a1 = 0.3971, 기울기 a2 = 5.2080, y절편 b = 79.7594\n",
      "[352.6852069  212.90950198 376.38752631 263.79781858 406.79583472\n",
      " 237.36083026 250.601952   295.83991017 407.98723075 338.6950763\n",
      " 215.47331464 276.551298   376.38752631 222.17930363 415.66850436\n",
      " 357.1441693  280.65838355 376.73940317 369.94290387 289.39528773\n",
      " 342.75690669 226.15062372 306.21059754 309.92055108 261.01789452]\n",
      "Epoch : 600000, RMSE = 41.3804, 기울기 a1 = 0.3977, 기울기 a2 = 5.2082, y절편 b = 79.7115\n",
      "[352.69381584 212.90605452 376.38715571 263.7950596  406.8026344\n",
      " 237.35636183 250.59490508 295.83963939 407.99566867 338.69830515\n",
      " 215.44567804 276.55914727 376.38715571 222.16781686 415.66671865\n",
      " 357.14505234 280.65109442 376.74644506 369.94752876 289.40001244\n",
      " 342.75186355 226.14459777 306.21765852 309.91192757 261.01131295]\n",
      "Epoch : 640000, RMSE = 41.3803, 기울기 a1 = 0.3982, 기울기 a2 = 5.2084, y절편 b = 79.6648\n",
      "[352.70219241 212.90270011 376.38679512 263.79237508 406.80925054\n",
      " 237.35201401 250.58804838 295.83937592 408.00387884 338.70144684\n",
      " 215.41878741 276.56678467 376.38679512 222.15664013 415.66498113\n",
      " 357.14591154 280.64400204 376.75329688 369.95202881 289.40460961\n",
      " 342.74695654 226.13873448 306.2245289  309.90353683 261.00490904]\n",
      "Epoch : 680000, RMSE = 41.3802, 기울기 a1 = 0.3987, 기울기 a2 = 5.2087, y절편 b = 79.6194\n",
      "[352.71034288 212.89943625 376.38644425 263.78976303 406.81568809\n",
      " 237.34778355 250.58137676 295.83911956 408.0118674  338.70450374\n",
      " 215.39262263 276.57421592 376.38644425 222.1457651  415.66329051\n",
      " 357.14674756 280.63710111 376.75996375 369.95640739 289.4090827\n",
      " 342.74218198 226.13302946 306.23121383 309.89537258 260.99867798]\n",
      "Epoch : 720000, RMSE = 41.3802, 기울기 a1 = 0.3992, 기울기 a2 = 5.2089, y절편 b = 79.5752\n",
      "[352.71827334 212.89626048 376.38610286 263.78722148 406.82195188\n",
      " 237.34366728 250.57488522 295.83887012 408.01964033 338.70747812\n",
      " 215.3671641  276.58144658 376.38610286 222.13518361 415.66164552\n",
      " 357.14756101 280.63038645 376.76645066 369.96066779 289.41343504\n",
      " 342.7375363  226.12747843 306.23771832 309.8874287  260.99261511]\n",
      "Epoch : 760000, RMSE = 41.3802, 기울기 a1 = 0.3997, 기울기 a2 = 5.2091, y절편 b = 79.5322\n",
      "[352.72598974 212.89317044 376.38577068 263.78474854 406.82804659\n",
      " 237.33966212 250.56856891 295.83862741 408.02720344 338.71037221\n",
      " 215.34239276 276.58848207 376.38577068 222.12488774 415.66004494\n",
      " 357.1483525  280.62385303 376.77276247 369.96481318 289.41766991\n",
      " 342.73301602 226.12207723 306.24404724 309.87969925 260.9867159 ]\n"
     ]
    },
    {
     "name": "stdout",
     "output_type": "stream",
     "text": [
      "Epoch : 800000, RMSE = 41.3801, 기울기 a1 = 0.4002, 기울기 a2 = 5.2093, y절편 b = 79.4904\n",
      "[352.73349786 212.89016381 376.38544747 263.78234235 406.83397679\n",
      " 237.33576507 250.56242309 295.83839125 408.0345624  338.71318819\n",
      " 215.31829007 276.59532765 376.38544747 222.11486979 415.65848756\n",
      " 357.14912262 280.61749597 376.77890391 369.96884668 289.42179046\n",
      " 342.72861775 226.11682183 306.25020532 309.87217844 260.98097592]\n",
      "Epoch : 840000, RMSE = 41.3801, 기울기 a1 = 0.4007, 기울기 a2 = 5.2095, y절편 b = 79.4497\n",
      "[352.74080331 212.88723833 376.38513298 263.78000111 406.83974692\n",
      " 237.33197321 250.55644316 295.83816147 408.04172273 338.71592815\n",
      " 215.29483798 276.60198845 376.38513298 222.10512224 415.65697222\n",
      " 357.14987196 280.6113105  376.78487958 369.9727713  289.42579979\n",
      " 342.7243382  226.11170829 306.25619718 309.86486063 260.97539088]\n",
      "Epoch : 880000, RMSE = 41.3800, 기울기 a1 = 0.4011, 기울기 a2 = 5.2097, y절편 b = 79.4101\n",
      "[352.74791156 212.88439183 376.38482698 263.77772306 406.84536129\n",
      " 237.32828371 250.55062465 295.83793789 408.04868978 338.71859415\n",
      " 215.27201892 276.60846945 376.38482698 222.09563782 415.65549779\n",
      " 357.15060107 280.605292   376.79069394 369.97658999 289.4297009\n",
      " 342.72017417 226.10673277 306.2620273  309.85774036 260.96995659]\n",
      "Epoch : 920000, RMSE = 41.3800, 기울기 a1 = 0.4015, 기울기 a2 = 5.2099, y절편 b = 79.3715\n",
      "[352.75482794 212.88162215 376.38452924 263.77550651 406.85082412\n",
      " 237.32469379 250.5449632  295.83772034 408.05546877 338.7211882\n",
      " 215.24981582 276.61477551 376.38452924 222.0864094  415.65406315\n",
      " 357.1513105  280.59943595 376.79635136 369.9803056  289.4334967\n",
      " 342.71612254 226.10189156 306.26770005 309.85081228 260.964669  ]\n",
      "Epoch : 960000, RMSE = 41.3800, 기울기 a1 = 0.4020, 기울기 a2 = 5.2100, y절편 b = 79.3340\n",
      "[352.76155763 212.87892724 376.38423954 263.77334979 406.85613949\n",
      " 237.32120078 250.53945456 295.83750867 408.06206477 338.72371222\n",
      " 215.22821205 276.62091136 376.38423954 222.07743009 415.65266724\n",
      " 357.15200078 280.59373798 376.80185607 369.98392091 289.43719005\n",
      " 342.71218028 226.09718103 306.27321968 309.84407121 260.95952413]\n",
      "Epoch : 1000000, RMSE = 41.3799, 기울기 a1 = 0.4024, 기울기 a2 = 5.2102, y절편 b = 79.2976\n",
      "[352.76810566 212.87630507 376.38395766 263.77125128 406.86131137\n",
      " 237.31780206 250.53409463 295.83730271 408.06848272 338.7261681\n",
      " 215.20719143 276.62688157 376.38395766 222.06869315 415.651309\n",
      " 357.15267243 280.58819381 376.80721219 369.98743864 289.44078369\n",
      " 342.70834443 226.09259765 306.27859031 309.8375121  260.95451814]\n",
      "Epoch : 1040000, RMSE = 41.3799, 기울기 a1 = 0.4028, 기울기 a2 = 5.2104, y절편 b = 79.2621\n",
      "[352.77447694 212.87375369 376.38368338 263.76920942 406.86634366\n",
      " 237.31449507 250.52887937 295.83710231 408.07472744 338.7285577\n",
      " 215.18673822 276.63269064 376.38368338 222.06019206 415.64998743\n",
      " 357.15332595 280.5827993  376.81242373 369.99086141 289.44428034\n",
      " 342.70461212 226.08813799 306.28381597 309.83113004 260.94964727]\n",
      "Epoch : 1080000, RMSE = 41.3799, 기울기 a1 = 0.4032, 기울기 a2 = 5.2106, y절편 b = 79.2275\n",
      "[352.78067624 212.87127117 376.38341651 263.76722268 406.87124011\n",
      " 237.31127736 250.52380489 295.83690732 408.08080359 338.73088279\n",
      " 215.16683712 276.63834289 376.38341651 222.05192043 415.64870154\n",
      " 357.15396183 280.5775504  376.81749459 369.99419179 289.4476826\n",
      " 342.70098056 226.0837987  306.28890058 309.82492026 260.94490789]\n",
      "Epoch : 1120000, RMSE = 41.3798, 기울기 a1 = 0.4036, 기울기 a2 = 5.2107, y절편 b = 79.1939\n",
      "[352.7867082  212.86885567 376.38315685 263.76528956 406.87600438\n",
      " 237.3081465  250.51886739 295.8367176  408.08671572 338.73314513\n",
      " 215.1474732  276.64384258 376.38315685 222.04387209 415.64745035\n",
      " 357.15458054 280.57244319 376.82242858 369.99743227 289.45099302\n",
      " 342.69744702 226.07957656 306.29384793 309.81887809 260.94029643]\n",
      "Epoch : 1160000, RMSE = 41.3798, 기울기 a1 = 0.4039, 기울기 a2 = 5.2109, y절편 b = 79.1612\n",
      "[352.79257733 212.86650536 376.38290419 263.76340863 406.88064005\n",
      " 237.30510015 250.51406316 295.83653299 408.09246827 338.73534639\n",
      " 215.12863199 276.64919381 376.38290419 222.03604099 415.64623294\n",
      " 357.15518255 280.56747383 376.82722938 370.00058528 289.45421408\n",
      " 342.69400887 226.07546838 306.29866174 309.81299903 260.93580946]\n",
      "Epoch : 1200000, RMSE = 41.3798, 기울기 a1 = 0.4043, 기울기 a2 = 5.2110, y절편 b = 79.1294\n",
      "[352.79828804 212.8642185  376.38265835 263.76157847 406.88515059\n",
      " 237.30213603 250.50938862 295.83635337 408.09806553 338.73748824\n",
      " 215.11029936 276.65440059 376.38265835 222.02842129 415.64504839\n",
      " 357.15576831 280.56263862 376.83190059 370.00365318 289.4573482\n",
      " 342.69066353 226.07147109 306.30334561 309.80727866 260.9314436 ]\n"
     ]
    }
   ],
   "source": [
    "# 텐서플로우 RMSE 함수\n",
    "rmse = tf.sqrt(tf.reduce_mean(tf.square( y - y_data)))\n",
    "\n",
    "# 학습률 값  => 얼만큼 이동시킬지를 정해준다. (너무 크게 잡으면 수렴하지 않고 발산 / 너무 작게 잡으면 오래걸림)\n",
    "# 기울기 부호 양수면 왼쪽, 음수면 오른쪽으로 이동\n",
    "learning_rate = 0.001\n",
    "\n",
    "# RMSE 값을 최소로 하는 값 찾기\n",
    "gradient_decent = tf.train.GradientDescentOptimizer(learning_rate).minimize(rmse)  # a, b를 계속 조정하면서 그래프를 생성\n",
    "\n",
    "# 텐서플로우를 이용한 학습\n",
    "with tf.Session() as sess:\n",
    "    \n",
    "    # 변수 초기화\n",
    "    sess.run(tf.global_variables_initializer())\n",
    "    \n",
    "    # 2001번 실행 (0번째를 포함하므로)\n",
    "    for step in range(1200001):\n",
    "        sess.run(gradient_decent)\n",
    "        \n",
    "        # 100번마다 결과 출력\n",
    "        if step % 40000 == 0:\n",
    "            print(\"Epoch : %.f, RMSE = %.04f, 기울기 a1 = %.4f, 기울기 a2 = %.4f, y절편 b = %.4f\" %\n",
    "                 (step, sess.run(rmse), sess.run(a1), sess.run(a2), sess.run(b)))   #😊🍕🍔🍜🍣🦪🍻🍅💕\n",
    "            print(sess.run(y))"
   ]
  },
  {
   "cell_type": "markdown",
   "metadata": {},
   "source": [
    "## 그래프 그리기"
   ]
  },
  {
   "cell_type": "code",
   "execution_count": 59,
   "metadata": {
    "scrolled": true
   },
   "outputs": [
    {
     "name": "stdout",
     "output_type": "stream",
     "text": [
      "Collecting matplotlib\n",
      "  Downloading matplotlib-3.3.0-cp37-cp37m-win_amd64.whl (8.8 MB)\n",
      "Requirement already satisfied: numpy>=1.15 in c:\\programdata\\anaconda3\\envs\\tf_v1\\lib\\site-packages (from matplotlib) (1.19.1)\n",
      "Collecting kiwisolver>=1.0.1\n",
      "  Downloading kiwisolver-1.2.0-cp37-none-win_amd64.whl (57 kB)\n",
      "Collecting cycler>=0.10\n",
      "  Downloading cycler-0.10.0-py2.py3-none-any.whl (6.5 kB)\n",
      "Requirement already satisfied: python-dateutil>=2.1 in c:\\programdata\\anaconda3\\envs\\tf_v1\\lib\\site-packages (from matplotlib) (2.8.1)\n",
      "Requirement already satisfied: pyparsing!=2.0.4,!=2.1.2,!=2.1.6,>=2.0.3 in c:\\programdata\\anaconda3\\envs\\tf_v1\\lib\\site-packages (from matplotlib) (2.4.7)\n",
      "Collecting pillow>=6.2.0\n",
      "  Downloading Pillow-7.2.0-cp37-cp37m-win_amd64.whl (2.1 MB)\n",
      "Requirement already satisfied: six in c:\\programdata\\anaconda3\\envs\\tf_v1\\lib\\site-packages (from cycler>=0.10->matplotlib) (1.15.0)\n",
      "Installing collected packages: kiwisolver, cycler, pillow, matplotlib\n",
      "Successfully installed cycler-0.10.0 kiwisolver-1.2.0 matplotlib-3.3.0 pillow-7.2.0\n"
     ]
    }
   ],
   "source": [
    "!pip install matplotlib"
   ]
  },
  {
   "cell_type": "code",
   "execution_count": 61,
   "metadata": {},
   "outputs": [],
   "source": [
    "import matplotlib.pyplot as plt\n",
    "from mpl_toolkits.mplot3d import Axes3D"
   ]
  },
  {
   "cell_type": "code",
   "execution_count": 69,
   "metadata": {},
   "outputs": [
    {
     "data": {
      "image/png": "[encoded data removed]",
      "text/plain": [
       "<Figure size 864x864 with 1 Axes>"
      ]
     },
     "metadata": {
      "needs_background": "light"
     },
     "output_type": "display_data"
    }
   ],
   "source": [
    "# 그래프 그리기\n",
    "fig = plt.figure(figsize = (12, 12))\n",
    "\n",
    "# 전체 공간을 1*1로 잡은 중 첫번째, 3d로 표시, 전체 공간을 나누는 개념\n",
    "ax = fig.add_subplot(111, projection = '3d')\n",
    "\n",
    "# 산점도 플롯을 만듦\n",
    "ax.scatter(x1, x2, y_data)\n",
    "ax.set_xlabel('Weight')\n",
    "ax.set_ylabel('Age')\n",
    "ax.set_zlabel('Blood fat')\n",
    "#ax.view_init(15, 15)      # 표고와 방위각 지정(3D 그래프의 보이는 방향)\n",
    "ax.view_init(0, 0)\n",
    "\n",
    "plt.show()"
   ]
  },
  {
   "cell_type": "markdown",
   "metadata": {},
   "source": [
    "# ✨ 로지스틱 회귀 ✨\n",
    "🐶 다중 선형 회귀와 달리 y값이 참과 거짓 두 분류로 나뉜다.    \n",
    "\n",
    "🐱 s자 형태로 그려지는 sigmoid 함수 이용!             \n",
    "🐷 y = 1 / (1 + exp(ax+b))  \n",
    "\n",
    "🦊 a : 경사도를 결정(a값이 커질수록 오차는 작아진다.)          \n",
    "🦊 b : 그래프의 위치 결정   \n",
    "\n",
    "🐰 오차 함수 : 평균 제곱 오차를 비용 함수로 사용하면, 경사하강법을 사용하였을 때     \n",
    "   => 글로벌 미니엄이 아닌 로컬 미니엄(잘못된 최소값)이 찾아지는 현상이 발생할 수 있다.\n",
    "\n",
    "🤓 오차 함수로 평균 제곱 오차가 아닌 ⭐로그 함수⭐를 사용하자!"
   ]
  },
  {
   "cell_type": "code",
   "execution_count": 70,
   "metadata": {},
   "outputs": [],
   "source": [
    "import tensorflow as tf\n",
    "import numpy as np"
   ]
  },
  {
   "cell_type": "code",
   "execution_count": 85,
   "metadata": {
    "scrolled": false
   },
   "outputs": [
    {
     "name": "stdout",
     "output_type": "stream",
     "text": [
      "Epoch : 0, loss = 1.2676, 기울기 a = 0.1849, y 절편 b = -0.4334\n",
      "Epoch : 6000, loss = 0.0152, 기울기 a = -2.9211, y 절편 b = 20.2983\n",
      "Epoch : 12000, loss = 0.0081, 기울기 a = -3.5638, y 절편 b = 24.8011\n",
      "Epoch : 18000, loss = 0.0055, 기울기 a = -3.9557, y 절편 b = 27.5464\n",
      "Epoch : 24000, loss = 0.0041, 기울기 a = -4.2380, y 절편 b = 29.5232\n",
      "Epoch : 30000, loss = 0.0033, 기울기 a = -4.4586, y 절편 b = 31.0676\n",
      "Epoch : 36000, loss = 0.0028, 기울기 a = -4.6396, y 절편 b = 32.3346\n",
      "Epoch : 42000, loss = 0.0024, 기울기 a = -4.7930, y 절편 b = 33.4087\n",
      "Epoch : 48000, loss = 0.0021, 기울기 a = -4.9261, y 절편 b = 34.3406\n",
      "Epoch : 54000, loss = 0.0019, 기울기 a = -5.0436, y 절편 b = 35.1636\n",
      "Epoch : 60000, loss = 0.0017, 기울기 a = -5.1489, y 절편 b = 35.9005\n",
      "Epoch : 66000, loss = nan, 기울기 a = nan, y 절편 b = nan\n",
      "Epoch : 72000, loss = nan, 기울기 a = nan, y 절편 b = nan\n",
      "Epoch : 78000, loss = nan, 기울기 a = nan, y 절편 b = nan\n",
      "Epoch : 84000, loss = nan, 기울기 a = nan, y 절편 b = nan\n",
      "Epoch : 90000, loss = nan, 기울기 a = nan, y 절편 b = nan\n"
     ]
    }
   ],
   "source": [
    "data = [[2, 0], [4, 0], [6, 0], [8, 1], [10, 1], [12, 1], [14, 1]]\n",
    "x_data = [x_row[0] for x_row in data]\n",
    "y_data = [y_row[1] for y_row in data]\n",
    "\n",
    "a = tf.Variable(tf.random_normal([1], dtype = tf.float64, seed = 0))  # 정규분포로부터 난수값을 봔환\n",
    "b = tf.Variable(tf.random_normal([1], dtype = tf.float64, seed = 0))\n",
    "\n",
    "# 시그모이드 함수의 방정식을 세운다.\n",
    "y = 1 / (1 + np.e**(a * x_data + b))\n",
    "\n",
    "# loss를 구하는 함수\n",
    "loss = -tf.reduce_mean(np.array(y_data) * tf.log(y) + (1 - np.array(y_data)) * tf.log(1 - y))\n",
    "\n",
    "# 학습률 값\n",
    "learning_rate = 0.5\n",
    "\n",
    "# loss를 최소로 하는 값 찾기\n",
    "gradient_decent = tf.train.GradientDescentOptimizer(learning_rate).minimize(loss)\n",
    "\n",
    "# 학습\n",
    "with tf.Session() as sess:\n",
    "    sess.run(tf.global_variables_initializer())\n",
    "    \n",
    "    for i in range(90001):\n",
    "        sess.run(gradient_decent)\n",
    "        if i % 6000 == 0:\n",
    "            print(\"Epoch : %.f, loss = %.4f, 기울기 a = %.4f, y 절편 b = %.4f\" \n",
    "                 % (i, sess.run(loss), sess.run(a), sess.run(b)))\n",
    "            \n",
    "            ## 🙉 60000번 이상 돌렸을 때, 결과가 nan값이 나온 이유 : 더 이상 loss의 최소값을 찾을 수 없어서!!"
   ]
  },
  {
   "cell_type": "code",
   "execution_count": 87,
   "metadata": {},
   "outputs": [
    {
     "name": "stdout",
     "output_type": "stream",
     "text": [
      "3.884081848271441e-05\n",
      "0.5353907190565972\n",
      "0.9999999999999667\n"
     ]
    }
   ],
   "source": [
    "y1 = 1 / (1 + np.e**(-5.1489 * 5 + 35.9005))   # 예측값 : 0 (불합격)\n",
    "print(y1)\n",
    "y2 = 1 / (1 + np.e**(-5.1489 * 7 + 35.9005))   # 예측값 : 0.5\n",
    "print(y2)\n",
    "y3 = 1 / (1 + np.e**(-5.1489 * 13 + 35.9005))   # 예측값 : 1 (합격)\n",
    "print(y3)"
   ]
  },
  {
   "cell_type": "code",
   "execution_count": null,
   "metadata": {},
   "outputs": [],
   "source": []
  },
  {
   "cell_type": "code",
   "execution_count": 88,
   "metadata": {},
   "outputs": [
    {
     "name": "stdout",
     "output_type": "stream",
     "text": [
      "(1, 3)\n",
      "[[12.]]\n"
     ]
    }
   ],
   "source": [
    "# constant \n",
    "\n",
    "x = tf.constant([[1.0, 2.0, 3.0]])\n",
    "w = tf.constant([[2.0], [2.0], [2.0]])\n",
    "y = tf.matmul(x, w)\n",
    "print(x.get_shape())\n",
    "\n",
    "sess = tf.Session()\n",
    "init = tf.global_variables_initializer()\n",
    "sess.run(init)\n",
    "result = sess.run(y)\n",
    "\n",
    "print(result)"
   ]
  },
  {
   "cell_type": "code",
   "execution_count": 90,
   "metadata": {},
   "outputs": [
    {
     "name": "stdout",
     "output_type": "stream",
     "text": [
      "(1, 3)\n",
      "[[12.]]\n"
     ]
    }
   ],
   "source": [
    "# Variable\n",
    "\n",
    "x = tf.Variable([[1., 2., 3.]], dtype = tf.float32)\n",
    "w = tf.Variable([[2.], [2.], [2.]], dtype = tf.float32)\n",
    "y = tf.matmul(x, w)\n",
    "print(x.get_shape())\n",
    "\n",
    "sess = tf.Session()\n",
    "init = tf.global_variables_initializer()\n",
    "sess.run(init)\n",
    "result = sess.run(y)\n",
    "\n",
    "print(result)"
   ]
  },
  {
   "cell_type": "code",
   "execution_count": 91,
   "metadata": {},
   "outputs": [
    {
     "name": "stdout",
     "output_type": "stream",
     "text": [
      "[[12.]\n",
      " [12.]\n",
      " [18.]]\n"
     ]
    }
   ],
   "source": [
    "input_data = [[1.,2.,3.], [1.,2.,3.], [2.,3.,4.]]  # 3X3 matrix\n",
    "x = tf.placeholder(dtype = tf.float32, shape = [None, 3])\n",
    "w = tf.Variable([[2.], [2.], [2.]], dtype = tf.float32)  # 3X1 matrix\n",
    "y = tf.matmul(x, w)\n",
    "\n",
    "sess = tf. Session()\n",
    "init = tf.global_variables_initializer()\n",
    "sess.run(init)\n",
    "result = sess.run(y, feed_dict={x:input_data})\n",
    "\n",
    "print(result)"
   ]
  },
  {
   "cell_type": "code",
   "execution_count": 92,
   "metadata": {},
   "outputs": [
    {
     "name": "stdout",
     "output_type": "stream",
     "text": [
      "(2, 3)\n",
      "[[10.]\n",
      " [16.]]\n"
     ]
    }
   ],
   "source": [
    "# 😭브로드 캐스팅😭\n",
    "# 행렬 계산을 진행할 때, 차원이 맞지 않는 경우 => 차원을 맞춰주기위해 행이나 열을 늘려준다!!\n",
    "# 브로드 캐스팅은 늘려주는 것만 가능!! 줄이는 것은 불가능!!\n",
    "\n",
    "input_data = [[1, 1, 1], [2, 2, 2]]\n",
    "x = tf.placeholder(dtype = tf.float32, shape = [2, 3])   # 2X3\n",
    "w = tf.Variable([[2], [2], [2]], dtype = tf.float32)   # 3X1\n",
    "b = tf.Variable([4], dtype = tf.float32)   # 1X1\n",
    "y = tf.matmul(x, w) + b   # 2X1 + 1X1 => 차원이 맞지 않음! => 브로드 캐스팅 덕분에 연산 가능!!\n",
    "                         # => [[6], [12]] + [[4], [4]] = [[10], [16]]\n",
    "print(x.get_shape())\n",
    "\n",
    "sess = tf.Session()\n",
    "init = tf.global_variables_initializer()\n",
    "sess.run(init)\n",
    "result = sess.run(y, feed_dict = {x:input_data})\n",
    "\n",
    "print(result)"
   ]
  },
  {
   "cell_type": "markdown",
   "metadata": {},
   "source": [
    "# ✨ 다중 로지스틱 회귀 ✨"
   ]
  },
  {
   "cell_type": "code",
   "execution_count": 3,
   "metadata": {},
   "outputs": [
    {
     "name": "stdout",
     "output_type": "stream",
     "text": [
      "step = 300, a1 = 0.8851, a2 = -0.6773, b = -2.2926, loss = 0.2757\n",
      "step = 600, a1 = 0.8667, a2 = -0.3759, b = -3.7848, loss = 0.1972\n",
      "step = 900, a1 = 0.7672, a2 = -0.0318, b = -4.8670, loss = 0.1536\n",
      "step = 1200, a1 = 0.6570, a2 = 0.2864, b = -5.7222, loss = 0.1253\n",
      "step = 1500, a1 = 0.5532, a2 = 0.5683, b = -6.4306, loss = 0.1055\n",
      "step = 1800, a1 = 0.4600, a2 = 0.8160, b = -7.0354, loss = 0.0910\n",
      "step = 2100, a1 = 0.3777, a2 = 1.0339, b = -7.5634, loss = 0.0799\n",
      "step = 2400, a1 = 0.3052, a2 = 1.2268, b = -8.0318, loss = 0.0711\n",
      "step = 2700, a1 = 0.2411, a2 = 1.3987, b = -8.4530, loss = 0.0641\n",
      "step = 3000, a1 = 0.1843, a2 = 1.5531, b = -8.8355, loss = 0.0583\n",
      "predicted =  [[0.]\n",
      " [0.]\n",
      " [0.]\n",
      " [1.]\n",
      " [1.]\n",
      " [1.]\n",
      " [1.]]\n",
      "check predicted = [[0.]\n",
      " [1.]\n",
      " [0.]]\n",
      "check hypothesis = [[0.29220556]\n",
      " [0.68409431]\n",
      " [0.41769405]]\n",
      "\n",
      "Hypothesis : [[0.02171748]\n",
      " [0.03108711]\n",
      " [0.17982782]\n",
      " [0.87630764]\n",
      " [0.97976277]\n",
      " [0.99698656]\n",
      " [0.99955789]] \n",
      "Correct (Y) : [[0.]\n",
      " [0.]\n",
      " [0.]\n",
      " [1.]\n",
      " [1.]\n",
      " [1.]\n",
      " [1.]] \n",
      "Accuracy : 1.0\n"
     ]
    }
   ],
   "source": [
    "import tensorflow as tf\n",
    "import numpy as np\n",
    "\n",
    "seed = 0\n",
    "np.random.seed(seed)\n",
    "tf.set_random_seed(seed)\n",
    "\n",
    "x_data = np.array([[2, 3], [4, 3], [6, 4], [8, 6], [10, 7], [12, 8], [14, 9]])   # 7X2\n",
    "y_data = np.array([0, 0, 0, 1, 1, 1, 1]).reshape(7, 1)   # 7X1\n",
    "\n",
    "X = tf.placeholder(tf.float64, shape = [None, 2])\n",
    "Y = tf.placeholder(tf.float64, shape = [None, 1])\n",
    "\n",
    "# 기울기 a와 바이어스 b의 값을 임의로 정함\n",
    "a = tf.Variable(tf.random_uniform([2, 1], dtype = tf.float64))\n",
    "# [2, 1] 의미 : 들어오는 값은 2개, 나가는 값은 1개\n",
    "\n",
    "b = tf.Variable(tf.random_uniform([1], dtype = tf.float64))\n",
    "\n",
    "# y 시그모이드 함수의 방정식을 세움\n",
    "y = tf.sigmoid(tf.matmul(X, a) + b)\n",
    "\n",
    "# 오차를 구하는 함수\n",
    "loss = -tf.reduce_mean(Y * tf.log(y) + (1 - Y) * tf.log(1 - y))\n",
    "\n",
    "# 학습률 값\n",
    "learning_rate = 0.1\n",
    "\n",
    "# 오차를 최소로 하는 값 찾기\n",
    "gradient_decent = tf.train.GradientDescentOptimizer(learning_rate).minimize(loss)\n",
    "\n",
    "\n",
    "# 💥🚫⛔우리가 만든 모델의 정밀도를 측정하기 위해!💥🚫⛔\n",
    "predicted = tf.cast(y > 0.5, dtype = tf.float64)   ## 0.5 를 기준으로 0, 1을 반환해준다.\n",
    "accuracy = tf.reduce_mean(tf.cast(tf.equal(predicted, Y), dtype = tf.float64))  ## predicted 와 Y가 같은지, 다른지\n",
    "# => reduce_mean : 배열의 평균 (predicted(예측값)와 Y(실제값)를 비교했을 때 결과의 평균)\n",
    "\n",
    "\n",
    "# 학습\n",
    "with tf.Session() as sess:\n",
    "    sess.run(tf.global_variables_initializer())\n",
    "    \n",
    "    for i in range(3001):\n",
    "        a_, b_, loss_, _ = sess.run([a, b, loss, gradient_decent], feed_dict={X:x_data, Y:y_data})\n",
    "        \n",
    "        if (i + 1) % 300 == 0:\n",
    "            print(\"step = %d, a1 = %.4f, a2 = %.4f, b = %.4f, loss = %.4f\" \n",
    "                 % (i + 1, a_[0], a_[1], b_, loss_))\n",
    "            \n",
    "    \n",
    "    # 추가 코드\n",
    "    print(\"predicted = \", sess.run(predicted, feed_dict={X:x_data}))   # => y를 구하려면 X를 지정해줘야한다.\n",
    "\n",
    "    # 다른 값 테스트\n",
    "    p_val, h_val = sess.run([predicted, y], feed_dict = {X:[[1, 5], [10, 5], [4, 5]]})\n",
    "    print(\"check predicted =\", p_val)   # 연산된 값을 bool로 변환한 값\n",
    "    print(\"check hypothesis =\", h_val)  # 계산값\n",
    "    \n",
    "    # 정확도 측정\n",
    "    h, c, a = sess.run([y, predicted, accuracy], feed_dict={X:x_data, Y:y_data})\n",
    "    print(\"\\nHypothesis :\", h, \"\\nCorrect (Y) :\", c, \"\\nAccuracy :\", a)"
   ]
  },
  {
   "cell_type": "code",
   "execution_count": null,
   "metadata": {},
   "outputs": [],
   "source": []
  }
 ],
 "metadata": {
  "kernelspec": {
   "display_name": "Python 3",
   "language": "python",
   "name": "python3"
  },
  "language_info": {
   "codemirror_mode": {
    "name": "ipython",
    "version": 3
   },
   "file_extension": ".py",
   "mimetype": "text/x-python",
   "name": "python",
   "nbconvert_exporter": "python",
   "pygments_lexer": "ipython3",
   "version": "3.7.7"
  }
 },
 "nbformat": 4,
 "nbformat_minor": 4
}
