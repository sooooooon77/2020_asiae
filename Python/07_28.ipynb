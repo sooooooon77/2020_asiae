{
 "cells": [
  {
   "cell_type": "markdown",
   "metadata": {},
   "source": [
    "# for 문 중첩\n"
   ]
  },
  {
   "cell_type": "code",
   "execution_count": 1,
   "metadata": {},
   "outputs": [
    {
     "name": "stdout",
     "output_type": "stream",
     "text": [
      "i: 0\n",
      "i*j: 0\n",
      "i*j: 0\n",
      "i*j: 0\n",
      "i*j: 0\n",
      "i*j: 0\n",
      "----------\n",
      "i: 1\n",
      "i*j: 0\n",
      "i*j: 1\n",
      "i*j: 2\n",
      "i*j: 3\n",
      "i*j: 4\n",
      "----------\n",
      "i: 2\n",
      "i*j: 0\n",
      "i*j: 2\n",
      "i*j: 4\n",
      "i*j: 6\n",
      "i*j: 8\n",
      "----------\n",
      "i: 3\n",
      "i*j: 0\n",
      "i*j: 3\n",
      "i*j: 6\n",
      "i*j: 9\n",
      "i*j: 12\n",
      "----------\n",
      "i: 4\n",
      "i*j: 0\n",
      "i*j: 4\n",
      "i*j: 8\n",
      "i*j: 12\n",
      "i*j: 16\n",
      "----------\n"
     ]
    }
   ],
   "source": [
    "for i in range(5):\n",
    "    print(\"i:\", i)\n",
    "    for j in range(5):\n",
    "        #print(\"j:\", j)\n",
    "        print(\"i*j:\", i*j)\n",
    "    print(\"-\"*10)"
   ]
  },
  {
   "cell_type": "code",
   "execution_count": 2,
   "metadata": {},
   "outputs": [
    {
     "name": "stdout",
     "output_type": "stream",
     "text": [
      "코드실행\n",
      "코드실행\n",
      "코드실행\n",
      "코드실행\n",
      "코드실행\n",
      "코드실행\n",
      "코드실행\n",
      "코드실행\n",
      "코드실행\n",
      "코드실행\n",
      "코드실행\n",
      "코드실행\n",
      "코드실행\n",
      "코드실행\n",
      "코드실행\n",
      "코드실행\n",
      "코드실행\n",
      "코드실행\n",
      "코드실행\n",
      "코드실행\n",
      "코드실행\n",
      "코드실행\n",
      "코드실행\n",
      "코드실행\n",
      "코드실행\n"
     ]
    }
   ],
   "source": [
    "for i in range(5):\n",
    "    for j in range(5):\n",
    "        print(\"코드실행\")   # 5 x 5 = 25 번 실행"
   ]
  },
  {
   "cell_type": "code",
   "execution_count": 3,
   "metadata": {},
   "outputs": [
    {
     "name": "stdout",
     "output_type": "stream",
     "text": [
      "(0, 'a')\n",
      "(1, 'b')\n",
      "(2, 'c')\n",
      "(3, 'd')\n"
     ]
    }
   ],
   "source": [
    "l1 = ['a', 'b', 'c', 'd']\n",
    "\n",
    "for i in enumerate(l1):     \n",
    "    print(i)               # 튜플 (index, value)"
   ]
  },
  {
   "cell_type": "code",
   "execution_count": 4,
   "metadata": {},
   "outputs": [
    {
     "name": "stdout",
     "output_type": "stream",
     "text": [
      "10\n",
      "20\n"
     ]
    }
   ],
   "source": [
    "a, b = (10, 20)\n",
    "print(a)\n",
    "print(b)"
   ]
  },
  {
   "cell_type": "code",
   "execution_count": 5,
   "metadata": {},
   "outputs": [
    {
     "name": "stdout",
     "output_type": "stream",
     "text": [
      "0 a\n",
      "1 b\n",
      "2 c\n",
      "3 d\n"
     ]
    }
   ],
   "source": [
    "l1 = ['a', 'b', 'c', 'd']\n",
    "\n",
    "for idx, val in enumerate(l1):     \n",
    "    print(idx, val)   "
   ]
  },
  {
   "cell_type": "code",
   "execution_count": 6,
   "metadata": {},
   "outputs": [
    {
     "name": "stdout",
     "output_type": "stream",
     "text": [
      "['a', 'b', 0, 0]\n"
     ]
    }
   ],
   "source": [
    "for idx, val in enumerate(l1):\n",
    "    if idx >= 2:\n",
    "        l1[idx] = 0\n",
    "print(l1)"
   ]
  },
  {
   "cell_type": "markdown",
   "metadata": {},
   "source": [
    "#### 연습문제2\n",
    "(1)  x = [3, 6, 9, 20, -7, 5] 의 값의 모든 요소에 10을 곱한뒤 출력하세요     \n",
    "심화 : 출력과 리스트 x 의 값에도 모두 10을 곱해주세요\n",
    "  \n",
    "(2)  y = {“math”: 70, “science”: 80, “english”: 20} 의 값의 모든 요소에 10을 더한뒤 출력하세요      \n",
    "심화 : 출력과 딕셔너리 y 의 값에도 모두 10을 더해주세요\n",
    "  \n",
    "(3) 숫자를 입력받고 입력받은 정수의 구구단을 출력하세요"
   ]
  },
  {
   "cell_type": "code",
   "execution_count": 47,
   "metadata": {
    "scrolled": true
   },
   "outputs": [
    {
     "name": "stdout",
     "output_type": "stream",
     "text": [
      "30\n",
      "60\n",
      "90\n",
      "200\n",
      "-70\n",
      "50\n",
      "[30, 60, 90, 200, -70, 50]\n"
     ]
    }
   ],
   "source": [
    "x = [3, 6, 9, 20, -7, 5] \n",
    "\n",
    "for idx, val in enumerate(x):\n",
    "    print(val*10)\n",
    "    x[idx] = val*10\n",
    "print(x)"
   ]
  },
  {
   "cell_type": "code",
   "execution_count": 44,
   "metadata": {
    "scrolled": true
   },
   "outputs": [
    {
     "name": "stdout",
     "output_type": "stream",
     "text": [
      "80\n",
      "90\n",
      "30\n",
      "{'math': 80, 'science': 90, 'english': 30}\n"
     ]
    }
   ],
   "source": [
    "y = {\"math\": 70, \"science\": 80, \"english\": 20}\n",
    "\n",
    "for i in y:\n",
    "    print(y[i]+10)\n",
    "    y[i] = y[i]+10\n",
    "print(y)"
   ]
  },
  {
   "cell_type": "code",
   "execution_count": 48,
   "metadata": {
    "scrolled": true
   },
   "outputs": [
    {
     "name": "stdout",
     "output_type": "stream",
     "text": [
      "정수를 입력하세요:5\n",
      "5 * 1 = 5\n",
      "5 * 2 = 10\n",
      "5 * 3 = 15\n",
      "5 * 4 = 20\n",
      "5 * 5 = 25\n",
      "5 * 6 = 30\n",
      "5 * 7 = 35\n",
      "5 * 8 = 40\n",
      "5 * 9 = 45\n"
     ]
    }
   ],
   "source": [
    "a = int(input(\"정수를 입력하세요:\"))\n",
    "\n",
    "for i in range(1,10):\n",
    "    #print(a,\"x\",i,\"=\",a*i)\n",
    "    print( \"{} * {} = {}\".format(a, i, a*i))"
   ]
  },
  {
   "cell_type": "markdown",
   "metadata": {},
   "source": [
    "#### 연습문제3\n",
    "(1) word = [“school”, “game”, “piano”, “science”, “hotel”, “mountian”] 중 글자수가 6글자 이상인 문자를 모아 새로운 리스트를 생성하세요    \n",
    "  \n",
    "(2) 구구단을 1단부터 9단까지 출력하세요"
   ]
  },
  {
   "cell_type": "code",
   "execution_count": 56,
   "metadata": {
    "scrolled": true
   },
   "outputs": [
    {
     "name": "stdout",
     "output_type": "stream",
     "text": [
      "school\n",
      "science\n",
      "mountian\n",
      "['school', 'science', 'mountian']\n"
     ]
    }
   ],
   "source": [
    "word = [\"school\", \"game\", \"piano\", \"science\", \"hotel\", \"mountian\"] \n",
    "new = []\n",
    "\n",
    "for i in word:\n",
    "    if len(i) >= 6:\n",
    "        print(i)\n",
    "        new.append(i)\n",
    "print(new)"
   ]
  },
  {
   "cell_type": "code",
   "execution_count": 58,
   "metadata": {},
   "outputs": [
    {
     "name": "stdout",
     "output_type": "stream",
     "text": [
      "['school', 'science', 'mountian']\n"
     ]
    }
   ],
   "source": [
    "new = [i for i in word if len(i) >= 6]\n",
    "print(new)"
   ]
  },
  {
   "cell_type": "code",
   "execution_count": 61,
   "metadata": {},
   "outputs": [
    {
     "data": {
      "text/plain": [
       "['school', 'piano', 'science', 'mountian']"
      ]
     },
     "execution_count": 61,
     "metadata": {},
     "output_type": "execute_result"
    }
   ],
   "source": [
    "## 리스트에서 6보다 짧은 단어 빼기\n",
    "\n",
    "# 잘못된 코드\n",
    "word = [\"school\", \"game\", \"piano\", \"science\", \"hotel\", \"mountian\"] \n",
    "\n",
    "for i, j in enumerate(word):\n",
    "    if len(j) < 6:\n",
    "        del word[i]\n",
    "word        "
   ]
  },
  {
   "cell_type": "code",
   "execution_count": 62,
   "metadata": {},
   "outputs": [
    {
     "data": {
      "text/plain": [
       "['school', 'science', 'mountian']"
      ]
     },
     "execution_count": 62,
     "metadata": {},
     "output_type": "execute_result"
    }
   ],
   "source": [
    "## 리스트에서 6보다 짧은 단어 빼기\n",
    "\n",
    "# 옳은 코드\n",
    "word = [\"school\", \"game\", \"piano\", \"science\", \"hotel\", \"mountian\"] \n",
    "new = word.copy()\n",
    "\n",
    "for i in word:\n",
    "    if len(i) < 6:\n",
    "        new.remove(i)\n",
    "new       "
   ]
  },
  {
   "cell_type": "code",
   "execution_count": 64,
   "metadata": {
    "scrolled": true
   },
   "outputs": [
    {
     "name": "stdout",
     "output_type": "stream",
     "text": [
      "[1단]\n",
      "1 x 1 = 1\n",
      "1 x 2 = 2\n",
      "1 x 3 = 3\n",
      "1 x 4 = 4\n",
      "1 x 5 = 5\n",
      "1 x 6 = 6\n",
      "1 x 7 = 7\n",
      "1 x 8 = 8\n",
      "1 x 9 = 9\n",
      "----------\n",
      "[2단]\n",
      "2 x 1 = 2\n",
      "2 x 2 = 4\n",
      "2 x 3 = 6\n",
      "2 x 4 = 8\n",
      "2 x 5 = 10\n",
      "2 x 6 = 12\n",
      "2 x 7 = 14\n",
      "2 x 8 = 16\n",
      "2 x 9 = 18\n",
      "----------\n",
      "[3단]\n",
      "3 x 1 = 3\n",
      "3 x 2 = 6\n",
      "3 x 3 = 9\n",
      "3 x 4 = 12\n",
      "3 x 5 = 15\n",
      "3 x 6 = 18\n",
      "3 x 7 = 21\n",
      "3 x 8 = 24\n",
      "3 x 9 = 27\n",
      "----------\n",
      "[4단]\n",
      "4 x 1 = 4\n",
      "4 x 2 = 8\n",
      "4 x 3 = 12\n",
      "4 x 4 = 16\n",
      "4 x 5 = 20\n",
      "4 x 6 = 24\n",
      "4 x 7 = 28\n",
      "4 x 8 = 32\n",
      "4 x 9 = 36\n",
      "----------\n",
      "[5단]\n",
      "5 x 1 = 5\n",
      "5 x 2 = 10\n",
      "5 x 3 = 15\n",
      "5 x 4 = 20\n",
      "5 x 5 = 25\n",
      "5 x 6 = 30\n",
      "5 x 7 = 35\n",
      "5 x 8 = 40\n",
      "5 x 9 = 45\n",
      "----------\n",
      "[6단]\n",
      "6 x 1 = 6\n",
      "6 x 2 = 12\n",
      "6 x 3 = 18\n",
      "6 x 4 = 24\n",
      "6 x 5 = 30\n",
      "6 x 6 = 36\n",
      "6 x 7 = 42\n",
      "6 x 8 = 48\n",
      "6 x 9 = 54\n",
      "----------\n",
      "[7단]\n",
      "7 x 1 = 7\n",
      "7 x 2 = 14\n",
      "7 x 3 = 21\n",
      "7 x 4 = 28\n",
      "7 x 5 = 35\n",
      "7 x 6 = 42\n",
      "7 x 7 = 49\n",
      "7 x 8 = 56\n",
      "7 x 9 = 63\n",
      "----------\n",
      "[8단]\n",
      "8 x 1 = 8\n",
      "8 x 2 = 16\n",
      "8 x 3 = 24\n",
      "8 x 4 = 32\n",
      "8 x 5 = 40\n",
      "8 x 6 = 48\n",
      "8 x 7 = 56\n",
      "8 x 8 = 64\n",
      "8 x 9 = 72\n",
      "----------\n",
      "[9단]\n",
      "9 x 1 = 9\n",
      "9 x 2 = 18\n",
      "9 x 3 = 27\n",
      "9 x 4 = 36\n",
      "9 x 5 = 45\n",
      "9 x 6 = 54\n",
      "9 x 7 = 63\n",
      "9 x 8 = 72\n",
      "9 x 9 = 81\n",
      "----------\n"
     ]
    }
   ],
   "source": [
    "for i in range(1, 10):\n",
    "    print(\"[%s단]\" % i)\n",
    "    for j in range(1, 10):\n",
    "        print(\"{} x {} = {}\".format(i, j, i*j))\n",
    "    print(\"-\"*10)"
   ]
  },
  {
   "cell_type": "markdown",
   "metadata": {},
   "source": [
    "#### 연습문제4\n",
    "1-100 까지 숫자중    \n",
    "3과 5의 공배수일경우 “3과 5의 공배수”    \n",
    "나머지 숫자중 3의배수일경우 “3의배수”    \n",
    "나머지 숫자중 5의배수일경우 “5의배수”    \n",
    "모두 해당되지 않을경우 그냥숫자를 출력하세요     \n",
    "\n",
    "심화 : 1-입력한숫자까지의 숫자중\n"
   ]
  },
  {
   "cell_type": "code",
   "execution_count": 54,
   "metadata": {
    "scrolled": true
   },
   "outputs": [
    {
     "name": "stdout",
     "output_type": "stream",
     "text": [
      "1\n",
      "2\n",
      "3의 배수\n",
      "4\n",
      "5의 배수\n",
      "3의 배수\n",
      "7\n",
      "8\n",
      "3의 배수\n",
      "5의 배수\n",
      "11\n",
      "3의 배수\n",
      "13\n",
      "14\n",
      "3과 5의 공배수\n",
      "16\n",
      "17\n",
      "3의 배수\n",
      "19\n",
      "5의 배수\n",
      "3의 배수\n",
      "22\n",
      "23\n",
      "3의 배수\n",
      "5의 배수\n",
      "26\n",
      "3의 배수\n",
      "28\n",
      "29\n",
      "3과 5의 공배수\n",
      "31\n",
      "32\n",
      "3의 배수\n",
      "34\n",
      "5의 배수\n",
      "3의 배수\n",
      "37\n",
      "38\n",
      "3의 배수\n",
      "5의 배수\n",
      "41\n",
      "3의 배수\n",
      "43\n",
      "44\n",
      "3과 5의 공배수\n",
      "46\n",
      "47\n",
      "3의 배수\n",
      "49\n",
      "5의 배수\n",
      "3의 배수\n",
      "52\n",
      "53\n",
      "3의 배수\n",
      "5의 배수\n",
      "56\n",
      "3의 배수\n",
      "58\n",
      "59\n",
      "3과 5의 공배수\n",
      "61\n",
      "62\n",
      "3의 배수\n",
      "64\n",
      "5의 배수\n",
      "3의 배수\n",
      "67\n",
      "68\n",
      "3의 배수\n",
      "5의 배수\n",
      "71\n",
      "3의 배수\n",
      "73\n",
      "74\n",
      "3과 5의 공배수\n",
      "76\n",
      "77\n",
      "3의 배수\n",
      "79\n",
      "5의 배수\n",
      "3의 배수\n",
      "82\n",
      "83\n",
      "3의 배수\n",
      "5의 배수\n",
      "86\n",
      "3의 배수\n",
      "88\n",
      "89\n",
      "3과 5의 공배수\n",
      "91\n",
      "92\n",
      "3의 배수\n",
      "94\n",
      "5의 배수\n",
      "3의 배수\n",
      "97\n",
      "98\n",
      "3의 배수\n",
      "5의 배수\n"
     ]
    }
   ],
   "source": [
    "for i in range(1, 101):\n",
    "    if i % 15 == 0:\n",
    "        print(\"3과 5의 공배수\")\n",
    "    elif i % 3 == 0:\n",
    "        print(\"3의 배수\")\n",
    "    elif i % 5 == 0:\n",
    "        print(\"5의 배수\")\n",
    "    else:\n",
    "        print(i)"
   ]
  },
  {
   "cell_type": "code",
   "execution_count": 55,
   "metadata": {
    "scrolled": true
   },
   "outputs": [
    {
     "name": "stdout",
     "output_type": "stream",
     "text": [
      "정수를 입력하세요:30\n",
      "1\n",
      "2\n",
      "3의 배수\n",
      "4\n",
      "5의 배수\n",
      "3의 배수\n",
      "7\n",
      "8\n",
      "3의 배수\n",
      "5의 배수\n",
      "11\n",
      "3의 배수\n",
      "13\n",
      "14\n",
      "3과 5의 공배수\n",
      "16\n",
      "17\n",
      "3의 배수\n",
      "19\n",
      "5의 배수\n",
      "3의 배수\n",
      "22\n",
      "23\n",
      "3의 배수\n",
      "5의 배수\n",
      "26\n",
      "3의 배수\n",
      "28\n",
      "29\n"
     ]
    }
   ],
   "source": [
    "a = int(input(\"정수를 입력하세요:\"))\n",
    "\n",
    "for i in range(1, a):\n",
    "    if i % 15 == 0:\n",
    "        print(\"3과 5의 공배수\")\n",
    "    elif i % 3 == 0:\n",
    "        print(\"3의 배수\")\n",
    "    elif i % 5 == 0:\n",
    "        print(\"5의 배수\")\n",
    "    else:\n",
    "        print(i)"
   ]
  },
  {
   "cell_type": "code",
   "execution_count": null,
   "metadata": {},
   "outputs": [],
   "source": []
  },
  {
   "cell_type": "code",
   "execution_count": null,
   "metadata": {},
   "outputs": [],
   "source": []
  },
  {
   "cell_type": "code",
   "execution_count": null,
   "metadata": {},
   "outputs": [],
   "source": []
  },
  {
   "cell_type": "code",
   "execution_count": null,
   "metadata": {},
   "outputs": [],
   "source": []
  },
  {
   "cell_type": "code",
   "execution_count": null,
   "metadata": {},
   "outputs": [],
   "source": []
  },
  {
   "cell_type": "code",
   "execution_count": null,
   "metadata": {},
   "outputs": [],
   "source": []
  },
  {
   "cell_type": "markdown",
   "metadata": {},
   "source": [
    "# While 문"
   ]
  },
  {
   "cell_type": "code",
   "execution_count": 66,
   "metadata": {},
   "outputs": [
    {
     "name": "stdout",
     "output_type": "stream",
     "text": [
      "i : 0\n",
      "i : 1\n",
      "i : 2\n",
      "i : 3\n",
      "i : 4\n"
     ]
    }
   ],
   "source": [
    "i = 0\n",
    "while i < 5:\n",
    "    print(\"i :\", i)\n",
    "    i = i + 1  \n",
    "    # i += 1"
   ]
  },
  {
   "cell_type": "code",
   "execution_count": 68,
   "metadata": {
    "scrolled": true
   },
   "outputs": [
    {
     "name": "stdout",
     "output_type": "stream",
     "text": [
      "s가 입력되면 멈춥니다.3\n",
      "프로세스 동작 중\n",
      "s가 입력되면 멈춥니다.5\n",
      "프로세스 동작 중\n",
      "s가 입력되면 멈춥니다.7\n",
      "프로세스 동작 중\n",
      "s가 입력되면 멈춥니다.s\n"
     ]
    }
   ],
   "source": [
    "i = input(\"s가 입력되면 멈춥니다.\")\n",
    "while i.upper() != 'S':\n",
    "    print(\"프로세스 동작 중\")\n",
    "    i = input(\"s가 입력되면 멈춥니다.\")"
   ]
  },
  {
   "cell_type": "markdown",
   "metadata": {},
   "source": [
    "#### 연습문제5\n",
    "사용자로부터 숫자를 계속 입력받다가     \n",
    "s or S 를 입력하면 합계출력\n"
   ]
  },
  {
   "cell_type": "code",
   "execution_count": 12,
   "metadata": {
    "scrolled": true
   },
   "outputs": [
    {
     "name": "stdout",
     "output_type": "stream",
     "text": [
      "값을 입력해주세요 1\n",
      "값을 입력해주세요 2\n",
      "값을 입력해주세요 3\n",
      "값을 입력해주세요 s\n",
      "합계는? 6\n"
     ]
    }
   ],
   "source": [
    "i = input(\"값을 입력해주세요 \")\n",
    "result = 0\n",
    "\n",
    "while i.upper() != 'S':\n",
    "    result = result + int(i)\n",
    "    i = input(\"값을 입력해주세요 \")\n",
    "print(\"합계는?\", result)"
   ]
  },
  {
   "cell_type": "markdown",
   "metadata": {},
   "source": [
    "#### 연습문제6 \n",
    "(가위바위보 게임만들기)\n"
   ]
  },
  {
   "cell_type": "code",
   "execution_count": 13,
   "metadata": {},
   "outputs": [],
   "source": [
    "import random"
   ]
  },
  {
   "cell_type": "code",
   "execution_count": 20,
   "metadata": {},
   "outputs": [
    {
     "data": {
      "text/plain": [
       "5"
      ]
     },
     "execution_count": 20,
     "metadata": {},
     "output_type": "execute_result"
    }
   ],
   "source": [
    "random.randint(1, 5)"
   ]
  },
  {
   "cell_type": "code",
   "execution_count": 23,
   "metadata": {},
   "outputs": [
    {
     "data": {
      "text/plain": [
       "2"
      ]
     },
     "execution_count": 23,
     "metadata": {},
     "output_type": "execute_result"
    }
   ],
   "source": [
    "a = random.randint(1, 5)\n",
    "a"
   ]
  },
  {
   "cell_type": "code",
   "execution_count": 29,
   "metadata": {},
   "outputs": [
    {
     "data": {
      "text/plain": [
       "'가위'"
      ]
     },
     "execution_count": 29,
     "metadata": {},
     "output_type": "execute_result"
    }
   ],
   "source": [
    "a = [\"가위\", \"바위\", \"보\"]\n",
    "a[0]"
   ]
  },
  {
   "cell_type": "code",
   "execution_count": 33,
   "metadata": {
    "scrolled": true
   },
   "outputs": [
    {
     "name": "stdout",
     "output_type": "stream",
     "text": [
      "가위(1), 바위(2), 보(3) 를 입력해주세요  3\n",
      "유저 : 보, 컴퓨터 : 가위\n",
      "가위(1), 바위(2), 보(3) 를 입력해주세요  2\n",
      "유저 : 바위, 컴퓨터 : 가위\n",
      "가위(1), 바위(2), 보(3) 를 입력해주세요  3\n",
      "유저 : 보, 컴퓨터 : 바위\n",
      "가위(1), 바위(2), 보(3) 를 입력해주세요  4\n",
      "게임 종료 (전체 : 3, 이김 : 2, 비김 : 0)\n"
     ]
    }
   ],
   "source": [
    "A = [\"가위\", \"바위\", \"보\"]\n",
    "\n",
    "#### 딕셔너리로도 가능\n",
    "# A = {1:\"가위\", 2:\"바위\", 3:\"보\"}\n",
    "\n",
    "i = int(input(\"가위(1), 바위(2), 보(3) 를 입력해주세요  \"))\n",
    "j = random.randint(1,3)\n",
    "\n",
    "a = 0  # 전체\n",
    "b = 0  # 이김\n",
    "c = 0  # 비김\n",
    "\n",
    "while (i >= 1) and (i <= 3):                                ## while i in [1,2,3]:\n",
    "    print(\"유저 : {}, 컴퓨터 : {}\".format(A[i-1], A[j-1]))\n",
    "    \n",
    "#### 비긴 경우 / 이긴 경우/ 진 경우 => 분류해서 if 문 짜도 됨\n",
    "    # if i == j:\n",
    "    #    c += 1\n",
    "    # elif 이긴 경우 다:\n",
    "    #    b += 1 \n",
    "    # a += 1\n",
    "    \n",
    "    if (i == 1) and (j == 2):\n",
    "        a += 1\n",
    "    elif (i == 1) and (j == 3):\n",
    "        b += 1\n",
    "        a += 1\n",
    "    elif (i == 2) and (j == 1):\n",
    "        b += 1\n",
    "        a += 1\n",
    "    elif (i == 2) and (j == 3):\n",
    "        a += 1\n",
    "    elif (i == 3) and (j == 1):\n",
    "        a += 1\n",
    "    elif (i == 3) and (j == 2):\n",
    "        b += 1\n",
    "        a += 1\n",
    "    else:\n",
    "        c += 1\n",
    "        a += 1\n",
    "        \n",
    "    i = int(input(\"가위(1), 바위(2), 보(3) 를 입력해주세요  \"))\n",
    "    j = random.randint(1,3)\n",
    "    \n",
    "print(\"게임 종료 (전체 : {}, 이김 : {}, 비김 : {})\".format(a, b, c))"
   ]
  },
  {
   "cell_type": "code",
   "execution_count": null,
   "metadata": {},
   "outputs": [],
   "source": []
  },
  {
   "cell_type": "code",
   "execution_count": null,
   "metadata": {},
   "outputs": [],
   "source": []
  },
  {
   "cell_type": "code",
   "execution_count": null,
   "metadata": {},
   "outputs": [],
   "source": []
  },
  {
   "cell_type": "code",
   "execution_count": null,
   "metadata": {},
   "outputs": [],
   "source": []
  },
  {
   "cell_type": "code",
   "execution_count": null,
   "metadata": {},
   "outputs": [],
   "source": []
  },
  {
   "cell_type": "markdown",
   "metadata": {},
   "source": [
    "# Break\n",
    "- 루프를 멈춘다.\n",
    "\n",
    "# Continue\n",
    "- 뒷 줄을 패스한다."
   ]
  },
  {
   "cell_type": "code",
   "execution_count": 34,
   "metadata": {},
   "outputs": [
    {
     "name": "stdout",
     "output_type": "stream",
     "text": [
      "0\n",
      "1\n",
      "2\n"
     ]
    }
   ],
   "source": [
    "for i in range(5):\n",
    "    if i == 3:\n",
    "        break\n",
    "    print(i)"
   ]
  },
  {
   "cell_type": "code",
   "execution_count": 35,
   "metadata": {},
   "outputs": [
    {
     "name": "stdout",
     "output_type": "stream",
     "text": [
      "0\n",
      "1\n",
      "2\n",
      "3\n",
      "4\n",
      "5\n",
      "9\n"
     ]
    }
   ],
   "source": [
    "for i in range(10):\n",
    "    if 5 < i <= 8:\n",
    "        continue\n",
    "    print(i)"
   ]
  },
  {
   "cell_type": "code",
   "execution_count": 36,
   "metadata": {
    "scrolled": true
   },
   "outputs": [
    {
     "name": "stdout",
     "output_type": "stream",
     "text": [
      "Hello\n",
      "s 입력시 멈춥니다.2\n",
      "Hello\n",
      "s 입력시 멈춥니다.4\n",
      "Hello\n",
      "s 입력시 멈춥니다.6\n",
      "Hello\n",
      "s 입력시 멈춥니다.s\n"
     ]
    }
   ],
   "source": [
    "# LOOP\n",
    "while True:\n",
    "    print(\"Hello\")\n",
    "    num = input(\"s 입력시 멈춥니다.\")\n",
    "    if num.lower() == 's':\n",
    "        break"
   ]
  },
  {
   "cell_type": "markdown",
   "metadata": {},
   "source": [
    "#### 연습문제11\n",
    "(1) while 문과 break 문을 사용하여 사용자가 입력한 숫자만큼 반복하여 ‘hi’ 출력하기\n",
    "\n",
    "(2) for 문과 continue 문을 사용하여 사용자가 입력한 숫자까지의 짝수를 출력하기\n"
   ]
  },
  {
   "cell_type": "code",
   "execution_count": 40,
   "metadata": {},
   "outputs": [
    {
     "name": "stdout",
     "output_type": "stream",
     "text": [
      "숫자 입력:3\n",
      "hi\n",
      "hi\n",
      "hi\n"
     ]
    }
   ],
   "source": [
    "num = int(input(\"숫자 입력:\"))\n",
    "num2 = 0\n",
    "\n",
    "while True:\n",
    "    print(\"hi\")\n",
    "    num2 += 1\n",
    "    if num == num2:\n",
    "        break    "
   ]
  },
  {
   "cell_type": "code",
   "execution_count": 42,
   "metadata": {},
   "outputs": [
    {
     "name": "stdout",
     "output_type": "stream",
     "text": [
      "숫자 입력:5\n",
      "0\n",
      "2\n",
      "4\n"
     ]
    }
   ],
   "source": [
    "a = int(input(\"숫자 입력:\"))\n",
    "\n",
    "for i in range(a):\n",
    "    if i % 2 != 0:\n",
    "        continue\n",
    "    print(i)"
   ]
  },
  {
   "cell_type": "markdown",
   "metadata": {},
   "source": [
    "#### 연습문제7\n",
    "randint함수를 사용하여 정수(1~1000)로 이루어진 길이가 100개인 리스트 a를 만들고     \n",
    "가장 큰 수를 구하는 코드를 작성하시오.     \n",
    "\n",
    "예) a=[32, 45, 2, 5, 76] 일때, 출력결과는 76이 나와야 함."
   ]
  },
  {
   "cell_type": "code",
   "execution_count": 72,
   "metadata": {
    "scrolled": true
   },
   "outputs": [
    {
     "name": "stdout",
     "output_type": "stream",
     "text": [
      "[712, 237, 129, 304, 488, 332, 489, 408, 484, 619, 171, 355, 760, 12, 957, 479, 828, 25, 647, 230, 932, 400, 953, 233, 320, 775, 669, 175, 778, 800, 987, 566, 276, 618, 747, 991, 426, 370, 65, 903, 137, 273, 14, 269, 827, 836, 437, 988, 31, 503, 574, 438, 862, 815, 29, 487, 886, 119, 128, 609, 400, 784, 393, 8, 204, 166, 70, 747, 692, 583, 412, 487, 462, 94, 320, 852, 942, 616, 94, 645, 231, 422, 217, 344, 543, 292, 949, 514, 778, 670, 300, 353, 816, 508, 731, 282, 624, 649, 570, 557]\n",
      "991\n"
     ]
    }
   ],
   "source": [
    "a = []\n",
    "\n",
    "while len(a) < 100:\n",
    "    num = random.randint(1, 1001)\n",
    "    a.append(num)\n",
    "print(a)\n",
    "\n",
    "\n",
    "b = a[0]\n",
    "\n",
    "for i in range(99):\n",
    "    if b < a[i+1]:\n",
    "        b = a[i+1]\n",
    "print(b)"
   ]
  },
  {
   "cell_type": "code",
   "execution_count": 74,
   "metadata": {
    "scrolled": true
   },
   "outputs": [
    {
     "name": "stdout",
     "output_type": "stream",
     "text": [
      "[672, 907, 820, 415, 372, 976, 741, 960, 752, 696, 216, 791, 17, 969, 386, 950, 890, 353, 519, 356, 542, 213, 240, 982, 801, 645, 225, 854, 718, 678, 695, 445, 518, 716, 390, 111, 713, 31, 406, 29, 448, 679, 21, 784, 668, 310, 78, 454, 654, 315, 853, 516, 565, 986, 25, 289, 815, 549, 528, 57, 356, 777, 712, 946, 310, 431, 190, 394, 708, 624, 140, 596, 909, 647, 776, 524, 337, 779, 495, 379, 679, 972, 319, 22, 122, 913, 101, 310, 222, 24, 496, 992, 976, 587, 471, 477, 15, 92, 899, 547]\n",
      "992\n"
     ]
    }
   ],
   "source": [
    "new_list = []\n",
    "max_num = 0\n",
    "\n",
    "for i in range(100):\n",
    "    rand_num = random.randint(1, 1001)\n",
    "    new_list.append(rand_num)\n",
    "    \n",
    "    if max_num < rand_num:\n",
    "        max_num = rand_num\n",
    "\n",
    "print(new_list)\n",
    "print(max_num)"
   ]
  },
  {
   "cell_type": "markdown",
   "metadata": {},
   "source": [
    "#### 연습문제8\n",
    "randint함수를 사용하여 정수(1~1000)로 이루어진 길이가 100개인 리스트 a를 만들고    \n",
    "리스트의 모든 요소의 합계를 구하는 코드를 작성하시오.    \n",
    "\n",
    "예) a=[32, 45, 2, 5, 76] 일때, 출력결과는 160이 나와야 함.\n"
   ]
  },
  {
   "cell_type": "code",
   "execution_count": 71,
   "metadata": {
    "scrolled": true
   },
   "outputs": [
    {
     "name": "stdout",
     "output_type": "stream",
     "text": [
      "[422, 107, 126, 703, 746, 463, 323, 577, 128, 690, 237, 154, 405, 912, 32, 874, 477, 540, 952, 832, 933, 774, 618, 56, 489, 593, 432, 70, 422, 164, 224, 204, 705, 544, 633, 858, 840, 778, 897, 684, 296, 922, 713, 119, 163, 725, 632, 578, 747, 6, 761, 988, 3, 695, 440, 910, 498, 489, 380, 848, 546, 960, 580, 879, 229, 306, 617, 443, 389, 886, 446, 477, 704, 140, 687, 484, 511, 963, 813, 178, 749, 404, 291, 742, 856, 677, 861, 475, 584, 600, 317, 13, 818, 892, 834, 523, 560, 70, 402, 346]\n",
      "53437\n"
     ]
    }
   ],
   "source": [
    "a = []\n",
    "\n",
    "while len(a) < 100:\n",
    "    num = random.randint(1, 1001)\n",
    "    a.append(num)\n",
    "print(a)\n",
    "\n",
    "\n",
    "s = 0\n",
    "\n",
    "for i in range(99):\n",
    "    s += a[i]\n",
    "print(s)"
   ]
  },
  {
   "cell_type": "code",
   "execution_count": 76,
   "metadata": {
    "scrolled": true
   },
   "outputs": [
    {
     "name": "stdout",
     "output_type": "stream",
     "text": [
      "[616, 397, 66, 1001, 405, 990, 202, 146, 528, 196, 8, 474, 227, 954, 598, 189, 180, 128, 280, 953, 839, 916, 609, 711, 292, 352, 650, 798, 392, 51, 988, 977, 725, 968, 215, 586, 635, 46, 625, 1001, 111, 585, 302, 228, 963, 565, 145, 147, 106, 532, 894, 805, 649, 583, 269, 710, 895, 441, 120, 993, 413, 775, 26, 45, 13, 692, 753, 404, 998, 282, 665, 32, 44, 569, 159, 174, 350, 966, 136, 885, 3, 240, 317, 502, 486, 568, 389, 859, 357, 473, 949, 549, 247, 415, 762, 599, 530, 2, 278, 978]\n",
      "48841\n"
     ]
    }
   ],
   "source": [
    "new_list = []\n",
    "sum_num = 0\n",
    "\n",
    "for i in range(100):\n",
    "    rand_num = random.randint(1, 1001)\n",
    "    new_list.append(rand_num)\n",
    "    sum_num += rand_num\n",
    "    \n",
    "print(new_list)\n",
    "print(sum_num)"
   ]
  },
  {
   "cell_type": "code",
   "execution_count": null,
   "metadata": {},
   "outputs": [],
   "source": []
  },
  {
   "cell_type": "code",
   "execution_count": null,
   "metadata": {},
   "outputs": [],
   "source": []
  },
  {
   "cell_type": "code",
   "execution_count": null,
   "metadata": {},
   "outputs": [],
   "source": []
  },
  {
   "cell_type": "code",
   "execution_count": null,
   "metadata": {},
   "outputs": [],
   "source": []
  },
  {
   "cell_type": "code",
   "execution_count": null,
   "metadata": {},
   "outputs": [],
   "source": []
  },
  {
   "cell_type": "markdown",
   "metadata": {},
   "source": [
    "# 리스트 컴플리헨션 (list comprehension)"
   ]
  },
  {
   "cell_type": "code",
   "execution_count": 79,
   "metadata": {},
   "outputs": [
    {
     "data": {
      "text/plain": [
       "[1, 2, 3, 4]"
      ]
     },
     "execution_count": 79,
     "metadata": {},
     "output_type": "execute_result"
    }
   ],
   "source": [
    "list(range(1, 5))"
   ]
  },
  {
   "cell_type": "code",
   "execution_count": 78,
   "metadata": {},
   "outputs": [
    {
     "data": {
      "text/plain": [
       "[10, 20, 30, 40]"
      ]
     },
     "execution_count": 78,
     "metadata": {},
     "output_type": "execute_result"
    }
   ],
   "source": [
    "list(range(10, 50, 10))"
   ]
  },
  {
   "cell_type": "code",
   "execution_count": 80,
   "metadata": {},
   "outputs": [
    {
     "data": {
      "text/plain": [
       "[10, 20, 30, 40]"
      ]
     },
     "execution_count": 80,
     "metadata": {},
     "output_type": "execute_result"
    }
   ],
   "source": [
    "new_list = []\n",
    "\n",
    "for i in range(1, 5):\n",
    "    new_list.append(i * 10)\n",
    "\n",
    "new_list"
   ]
  },
  {
   "cell_type": "code",
   "execution_count": 84,
   "metadata": {},
   "outputs": [
    {
     "data": {
      "text/plain": [
       "[17.5, 27.5, 37.5, 47.5]"
      ]
     },
     "execution_count": 84,
     "metadata": {},
     "output_type": "execute_result"
    }
   ],
   "source": [
    "new_list = [i*10+7.5 for i in range(1, 5)]\n",
    "new_list"
   ]
  },
  {
   "cell_type": "code",
   "execution_count": 88,
   "metadata": {},
   "outputs": [
    {
     "name": "stdout",
     "output_type": "stream",
     "text": [
      "[3, 6, 9, 12, 15, 18, 21, 24, 27, 30, 33, 36, 39, 42, 45, 48, 51, 54, 57, 60, 63, 66, 69, 72, 75, 78, 81, 84, 87, 90, 93, 96, 99]\n"
     ]
    }
   ],
   "source": [
    "# 1부터 100까지의 숫자 중에서 3의 배수만 모아서 새로운 리스트를 만드시오.\n",
    "\n",
    "new_list = [i for i in range(1, 101) if i % 3 == 0]\n",
    "print(new_list)"
   ]
  },
  {
   "cell_type": "code",
   "execution_count": 90,
   "metadata": {},
   "outputs": [
    {
     "name": "stdout",
     "output_type": "stream",
     "text": [
      "100\n",
      "[1, 2, 3, 4, 5, 6, 7, 8, 9, 10, 2, 4, 6, 8, 10, 12, 14, 16, 18, 20, 3, 6, 9, 12, 15, 18, 21, 24, 27, 30, 4, 8, 12, 16, 20, 24, 28, 32, 36, 40, 5, 10, 15, 20, 25, 30, 35, 40, 45, 50, 6, 12, 18, 24, 30, 36, 42, 48, 54, 60, 7, 14, 21, 28, 35, 42, 49, 56, 63, 70, 8, 16, 24, 32, 40, 48, 56, 64, 72, 80, 9, 18, 27, 36, 45, 54, 63, 72, 81, 90, 10, 20, 30, 40, 50, 60, 70, 80, 90, 100]\n"
     ]
    }
   ],
   "source": [
    "new_list = [i*j for i in range(1, 11) for j in range(1, 11)]\n",
    "print(len(new_list))\n",
    "print(new_list)"
   ]
  },
  {
   "cell_type": "code",
   "execution_count": 91,
   "metadata": {},
   "outputs": [
    {
     "data": {
      "text/plain": [
       "{'city': 'Seoul', 'name': '김형순', 'height': 163}"
      ]
     },
     "execution_count": 91,
     "metadata": {},
     "output_type": "execute_result"
    }
   ],
   "source": [
    "keys = ['city', 'name', 'height']\n",
    "value = ['Seoul', '김형순', 163]\n",
    "\n",
    "new_dict = {keys[i] : value[i] for i in range(len(keys))}\n",
    "new_dict"
   ]
  },
  {
   "cell_type": "markdown",
   "metadata": {},
   "source": [
    "# ZIP"
   ]
  },
  {
   "cell_type": "code",
   "execution_count": 92,
   "metadata": {},
   "outputs": [
    {
     "name": "stdout",
     "output_type": "stream",
     "text": [
      "city Seoul\n",
      "name 김형순\n",
      "height 163\n"
     ]
    }
   ],
   "source": [
    "for i in range(len(keys)):\n",
    "    k = keys[i]\n",
    "    v = value[i]\n",
    "    print(k, v)"
   ]
  },
  {
   "cell_type": "code",
   "execution_count": 93,
   "metadata": {},
   "outputs": [
    {
     "data": {
      "text/plain": [
       "[('city', 'Seoul'), ('name', '김형순'), ('height', 163)]"
      ]
     },
     "execution_count": 93,
     "metadata": {},
     "output_type": "execute_result"
    }
   ],
   "source": [
    "list(zip(keys, value))"
   ]
  },
  {
   "cell_type": "code",
   "execution_count": 94,
   "metadata": {
    "scrolled": true
   },
   "outputs": [
    {
     "name": "stdout",
     "output_type": "stream",
     "text": [
      "city Seoul\n",
      "name 김형순\n",
      "height 163\n"
     ]
    }
   ],
   "source": [
    "for k, v in zip(keys, value):\n",
    "    print(k, v)"
   ]
  },
  {
   "cell_type": "code",
   "execution_count": 95,
   "metadata": {},
   "outputs": [
    {
     "data": {
      "text/plain": [
       "[('city', 'Seoul', 'a'), ('name', '김형순', 'b'), ('height', 163, 'c')]"
      ]
     },
     "execution_count": 95,
     "metadata": {},
     "output_type": "execute_result"
    }
   ],
   "source": [
    "keys = ['city', 'name', 'height']\n",
    "value = ['Seoul', '김형순', 163]\n",
    "sample = ['a', 'b', 'c']  \n",
    "\n",
    "list(zip(keys, value, sample))"
   ]
  },
  {
   "cell_type": "code",
   "execution_count": 96,
   "metadata": {
    "scrolled": true
   },
   "outputs": [
    {
     "data": {
      "text/plain": [
       "{'city': 'Seoul', 'name': '김형순', 'height': 163}"
      ]
     },
     "execution_count": 96,
     "metadata": {},
     "output_type": "execute_result"
    }
   ],
   "source": [
    "dict(zip(keys, value))"
   ]
  },
  {
   "cell_type": "markdown",
   "metadata": {},
   "source": [
    "#### 연습문제9\n",
    "(1) word = [“school”, “game”, “piano”, “science”, “hotel”, “mountain”] 중 글자수가 6글자 이상인 문자를 모아 새로운 리스트를 생성하세요   \n",
    "(리스트 컴프리핸션을 사용해주세요)\n",
    "\n",
    "(2) word = [“school”, “game”, “piano”, “science”, “hotel”, “mountain”] 리스트의 글자수가 들어가있는 새로운 리스트를 생성하세요    \n",
    "(리스트 컴프리핸션을 사용해주세요)\n"
   ]
  },
  {
   "cell_type": "code",
   "execution_count": 108,
   "metadata": {},
   "outputs": [
    {
     "data": {
      "text/plain": [
       "['school', 'science', 'mountain']"
      ]
     },
     "execution_count": 108,
     "metadata": {},
     "output_type": "execute_result"
    }
   ],
   "source": [
    "word = [\"school\", \"game\", \"piano\", \"science\", \"hotel\", \"mountain\"]\n",
    "\n",
    "new_list = [i for i in word if len(i) >= 6]\n",
    "new_list"
   ]
  },
  {
   "cell_type": "code",
   "execution_count": 109,
   "metadata": {
    "scrolled": true
   },
   "outputs": [
    {
     "data": {
      "text/plain": [
       "[6, 4, 5, 7, 5, 8]"
      ]
     },
     "execution_count": 109,
     "metadata": {},
     "output_type": "execute_result"
    }
   ],
   "source": [
    "word = [\"school\", \"game\", \"piano\", \"science\", \"hotel\", \"mountain\"]\n",
    "\n",
    "new_list = [len(i) for i in word]\n",
    "new_list"
   ]
  },
  {
   "cell_type": "markdown",
   "metadata": {},
   "source": [
    "#### 연습문제10\n",
    "(1) 아래 두 리스트를 각 요소들을 곱해 새로운 리스트 C 를 만드세요     \n",
    "a = [[10, 20], [30, 40], [50, 60]]    \n",
    "b = [[2, 3], [4, 5], [6, 7]]       \n",
    "\n",
    "심화 2X3 리스트 a, b를 사용자로부터 입력받아 두 값을 곱해 새로운 리스트 C 를 만드세요\n"
   ]
  },
  {
   "cell_type": "code",
   "execution_count": 110,
   "metadata": {},
   "outputs": [
    {
     "data": {
      "text/plain": [
       "[[20, 60], [120, 200], [300, 420]]"
      ]
     },
     "execution_count": 110,
     "metadata": {},
     "output_type": "execute_result"
    }
   ],
   "source": [
    "a = [[10, 20], [30, 40], [50, 60]]    \n",
    "b = [[2, 3], [4, 5], [6, 7]]   \n",
    "\n",
    "new_list = [[a[i][j] * b[i][j] for j in range(len(a[i]))] for i in range(len(a))]\n",
    "new_list"
   ]
  },
  {
   "cell_type": "code",
   "execution_count": 114,
   "metadata": {},
   "outputs": [
    {
     "data": {
      "text/plain": [
       "[[20, 60], [120, 200], [300, 420]]"
      ]
     },
     "execution_count": 114,
     "metadata": {},
     "output_type": "execute_result"
    }
   ],
   "source": [
    "new_list = []\n",
    "\n",
    "for i in range(len(a)):\n",
    "    in_list = []\n",
    "    for j in range(len(a[i])):\n",
    "        in_list.append(a[i][j] * b[i][j])\n",
    "    new_list.append(in_list)\n",
    "\n",
    "new_list"
   ]
  },
  {
   "cell_type": "code",
   "execution_count": 115,
   "metadata": {},
   "outputs": [
    {
     "name": "stdout",
     "output_type": "stream",
     "text": [
      "[10, 20] [2, 3]\n"
     ]
    }
   ],
   "source": [
    "for l1, l2 in zip(a, b):\n",
    "    print(l1, l2)\n",
    "    break"
   ]
  },
  {
   "cell_type": "code",
   "execution_count": 118,
   "metadata": {},
   "outputs": [
    {
     "data": {
      "text/plain": [
       "[[20, 60], [120, 200], [300, 420]]"
      ]
     },
     "execution_count": 118,
     "metadata": {},
     "output_type": "execute_result"
    }
   ],
   "source": [
    "new_list = []\n",
    "\n",
    "for [a1, a2], [b1, b2] in zip(a, b):\n",
    "    new_list.append([a1*b1, a2*b2])\n",
    "\n",
    "new_list    "
   ]
  },
  {
   "cell_type": "markdown",
   "metadata": {},
   "source": [
    "#### 연습문제10\n",
    "(1) 아래의 학습코드를 가지고 a 리스트가 [[1,2],[3,4],[5,6]] 와 같이 만들어지도록 수정하세요"
   ]
  },
  {
   "cell_type": "code",
   "execution_count": 3,
   "metadata": {},
   "outputs": [
    {
     "name": "stdout",
     "output_type": "stream",
     "text": [
      "[[0, 0], [0, 0], [0, 0], [0, 0], [0, 0], [0, 0]]\n"
     ]
    }
   ],
   "source": [
    "a = []\n",
    "for i in range(3):\n",
    "    line = []\n",
    "    for j in range(2):\n",
    "        line.append(0)\n",
    "        a.append(line)\n",
    "print(a)"
   ]
  },
  {
   "cell_type": "code",
   "execution_count": null,
   "metadata": {},
   "outputs": [],
   "source": []
  },
  {
   "cell_type": "code",
   "execution_count": null,
   "metadata": {},
   "outputs": [],
   "source": []
  },
  {
   "cell_type": "code",
   "execution_count": null,
   "metadata": {},
   "outputs": [],
   "source": []
  },
  {
   "cell_type": "code",
   "execution_count": 17,
   "metadata": {},
   "outputs": [
    {
     "data": {
      "text/plain": [
       "[1, 1, 2, 1, 3, 1]"
      ]
     },
     "execution_count": 17,
     "metadata": {},
     "output_type": "execute_result"
    }
   ],
   "source": [
    "a_list = [1,1,2,2,3,1,1,1]\n",
    "b_list = []\n",
    "\n",
    "\n",
    "for i in range(len(a_list)-1):\n",
    "    s = 1\n",
    "    if a_list[i] == a_list[i+1]:\n",
    "        s += 1\n",
    "    else:\n",
    "        b_list.append(a_list[i])\n",
    "        b_list.append(s)\n",
    "b_list"
   ]
  },
  {
   "cell_type": "code",
   "execution_count": null,
   "metadata": {},
   "outputs": [],
   "source": []
  }
 ],
 "metadata": {
  "kernelspec": {
   "display_name": "Python 3",
   "language": "python",
   "name": "python3"
  },
  "language_info": {
   "codemirror_mode": {
    "name": "ipython",
    "version": 3
   },
   "file_extension": ".py",
   "mimetype": "text/x-python",
   "name": "python",
   "nbconvert_exporter": "python",
   "pygments_lexer": "ipython3",
   "version": "3.7.3"
  }
 },
 "nbformat": 4,
 "nbformat_minor": 2
}
