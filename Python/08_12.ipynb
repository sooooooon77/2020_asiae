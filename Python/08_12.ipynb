{
 "cells": [
  {
   "cell_type": "markdown",
   "metadata": {},
   "source": [
    "# 최소 제곱법 🐶🐵🐺🐱🐰\n",
    "항이 별로 없을 때 기울기를 구하는 방법"
   ]
  },
  {
   "cell_type": "code",
   "execution_count": 1,
   "metadata": {},
   "outputs": [],
   "source": [
    "import numpy as np"
   ]
  },
  {
   "cell_type": "markdown",
   "metadata": {},
   "source": [
    "### 예제 1"
   ]
  },
  {
   "cell_type": "code",
   "execution_count": 36,
   "metadata": {},
   "outputs": [],
   "source": [
    "x = [2, 4, 6, 8]\n",
    "y = [81, 93, 91, 97]"
   ]
  },
  {
   "cell_type": "code",
   "execution_count": 37,
   "metadata": {},
   "outputs": [],
   "source": [
    "mx = np.mean(x)\n",
    "my = np.mean(y)"
   ]
  },
  {
   "cell_type": "code",
   "execution_count": 38,
   "metadata": {},
   "outputs": [],
   "source": [
    "result1 = []\n",
    "result2 = []\n",
    "\n",
    "def top(x, mx, y, my):\n",
    "    \n",
    "    for i in range(len(x)):\n",
    "        r1 = (x[i]-mx)*(y[i]-my)\n",
    "        result1.append(r1)\n",
    "        \n",
    "        r2 = (x[i]-mx)**2\n",
    "        result2.append(r2)\n",
    "        \n",
    "    return (sum(result1)) / (sum(result2))"
   ]
  },
  {
   "cell_type": "code",
   "execution_count": 39,
   "metadata": {},
   "outputs": [
    {
     "data": {
      "text/plain": [
       "2.3"
      ]
     },
     "execution_count": 39,
     "metadata": {},
     "output_type": "execute_result"
    }
   ],
   "source": [
    "a = top(x, mx, y, my)\n",
    "a"
   ]
  },
  {
   "cell_type": "code",
   "execution_count": 40,
   "metadata": {},
   "outputs": [
    {
     "data": {
      "text/plain": [
       "79.0"
      ]
     },
     "execution_count": 40,
     "metadata": {},
     "output_type": "execute_result"
    }
   ],
   "source": [
    "b = my - 2.3 * mx\n",
    "b"
   ]
  },
  {
   "cell_type": "code",
   "execution_count": 41,
   "metadata": {},
   "outputs": [
    {
     "name": "stdout",
     "output_type": "stream",
     "text": [
      "기울기 a =  2.3\n",
      "y 절편 b =  79.0\n"
     ]
    }
   ],
   "source": [
    "# 강사님\n",
    "x = [2, 4, 6, 8]\n",
    "y = [81, 93, 91, 97]\n",
    "\n",
    "mx = np.mean(x)\n",
    "my = np.mean(y)\n",
    "\n",
    "divisor = sum([(mx-i)**2 for i in x])\n",
    "\n",
    "def top(x, mx, y, my):\n",
    "    d = 0\n",
    "    for i in range(len(x)):\n",
    "        d += (x[i]-mx)*(y[i]-my)\n",
    "    return d\n",
    "\n",
    "dividend = top(x, mx, y, my)\n",
    "\n",
    "a = dividend / divisor\n",
    "print(\"기울기 a = \", a)\n",
    "\n",
    "b = my - a * mx\n",
    "print(\"y 절편 b = \", b)"
   ]
  },
  {
   "cell_type": "markdown",
   "metadata": {},
   "source": [
    "### 예제 2"
   ]
  },
  {
   "cell_type": "code",
   "execution_count": 57,
   "metadata": {},
   "outputs": [
    {
     "name": "stdout",
     "output_type": "stream",
     "text": [
      "기울기 a =  0.176\n",
      "y 절편 b =  -0.034\n"
     ]
    }
   ],
   "source": [
    "x = [1, 2, 3, 4, 5, 6, 7, 8]\n",
    "y = [0.2, 0.3, 0.5, 0.6, 0.9, 0.95, 1.1, 1.5]\n",
    "\n",
    "mx = np.mean(x)\n",
    "my = np.mean(y)\n",
    "\n",
    "divisor = sum([(mx-i)**2 for i in x])\n",
    "\n",
    "#dividend = sum([(x[i]-mx)*(y[i]-my) for i in range(len(x))])\n",
    "\n",
    "def top(x, mx, y, my):\n",
    "    d = 0\n",
    "    for i in range(len(x)):\n",
    "        d += (x[i]-mx)*(y[i]-my)\n",
    "    return d\n",
    "\n",
    "dividend = top(x, mx, y, my)\n",
    "\n",
    "a = dividend / divisor\n",
    "print(\"기울기 a = \", round(a, 3))\n",
    "\n",
    "b = my - a * mx\n",
    "print(\"y 절편 b = \", round(b, 3))"
   ]
  },
  {
   "cell_type": "code",
   "execution_count": 58,
   "metadata": {},
   "outputs": [
    {
     "name": "stdout",
     "output_type": "stream",
     "text": [
      "15주 후 : 2.6\n",
      "22주 후 : 3.829\n",
      "77주 후 : 13.487\n",
      "200주 후 : 30\n"
     ]
    }
   ],
   "source": [
    "#1 \n",
    "y_15 = a * 15 + b\n",
    "y_22 = a * 22 + b\n",
    "y_77 = a * 77 + b\n",
    "y_200 = a * 200 + b\n",
    "\n",
    "print(\"15주 후 :\", round(y_15, 3))\n",
    "print(\"22주 후 :\", round(y_22, 3))\n",
    "print(\"77주 후 :\", round(y_77, 3))\n",
    "print(\"200주 후 :\", 30)"
   ]
  },
  {
   "cell_type": "code",
   "execution_count": 59,
   "metadata": {},
   "outputs": [
    {
     "name": "stdout",
     "output_type": "stream",
     "text": [
      "5주차 예상 크기 :  0.844\n",
      "5주차 실제 크기 :  0.9\n",
      "차이 :  0.056\n"
     ]
    }
   ],
   "source": [
    "#2\n",
    "y_5 = a * 5 + b\n",
    "\n",
    "print(\"5주차 예상 크기 : \", round(y_5, 3))\n",
    "print(\"5주차 실제 크기 : \", 0.9)\n",
    "\n",
    "print(\"차이 : \", round((0.9 - y_5), 3))"
   ]
  },
  {
   "cell_type": "code",
   "execution_count": 61,
   "metadata": {
    "scrolled": true
   },
   "outputs": [
    {
     "name": "stdout",
     "output_type": "stream",
     "text": [
      "기울기 a =  0.176\n",
      "y 절편 b =  -0.034\n",
      "15주 후 : 2.6 cm\n",
      "22주 후 : 3.829 cm\n",
      "77주 후 : 13.487 cm\n",
      "200주 후 : 30 cm\n"
     ]
    }
   ],
   "source": [
    "# 강사님\n",
    "maxSize = 30\n",
    "\n",
    "x = [1, 2, 3, 4, 5, 6, 7, 8]\n",
    "y = [0.2, 0.3, 0.5, 0.6, 0.9, 0.95, 1.1, 1.5]\n",
    "\n",
    "mx = np.mean(x)\n",
    "my = np.mean(y)\n",
    "\n",
    "divisor = sum([(mx-i)**2 for i in x])\n",
    "\n",
    "#dividend = sum([(x[i]-mx)*(y[i]-my) for i in range(len(x))])\n",
    "\n",
    "def top(x, mx, y, my):\n",
    "    d = 0\n",
    "    for i in range(len(x)):\n",
    "        d += (x[i]-mx)*(y[i]-my)\n",
    "    return d\n",
    "\n",
    "dividend = top(x, mx, y, my)\n",
    "\n",
    "a = dividend / divisor\n",
    "print(\"기울기 a = \", round(a, 3))\n",
    "\n",
    "b = my - a * mx\n",
    "print(\"y 절편 b = \", round(b, 3))\n",
    "\n",
    "\n",
    "#1\n",
    "def sizeOf(x):\n",
    "    v = a * x + b\n",
    "    return maxSize if v > maxSize else round(v, 3)\n",
    "\n",
    "print(\"15주 후 :\", sizeOf(15), \"cm\")\n",
    "print(\"22주 후 :\", sizeOf(22), \"cm\")\n",
    "print(\"77주 후 :\", sizeOf(77), \"cm\")\n",
    "print(\"200주 후 :\", sizeOf(200), \"cm\")"
   ]
  },
  {
   "cell_type": "markdown",
   "metadata": {},
   "source": [
    "# 평균 제곱근 오차 (RMSE) ✨"
   ]
  },
  {
   "cell_type": "markdown",
   "metadata": {},
   "source": [
    "### 예제 3"
   ]
  },
  {
   "cell_type": "code",
   "execution_count": 63,
   "metadata": {},
   "outputs": [],
   "source": [
    "import math"
   ]
  },
  {
   "cell_type": "code",
   "execution_count": 68,
   "metadata": {},
   "outputs": [],
   "source": [
    "# y = 3 * x + 76"
   ]
  },
  {
   "cell_type": "code",
   "execution_count": 70,
   "metadata": {},
   "outputs": [
    {
     "data": {
      "text/plain": [
       "3.3166247903554"
      ]
     },
     "execution_count": 70,
     "metadata": {},
     "output_type": "execute_result"
    }
   ],
   "source": [
    "x = [2, 4, 6, 8]\n",
    "y = [81, 93, 91, 97]\n",
    "\n",
    "RMSE = math.sqrt(sum([((3 * x[i] + 76 - y[i])**2) for i in range(len(x))])/len(x))\n",
    "RMSE"
   ]
  },
  {
   "cell_type": "code",
   "execution_count": 72,
   "metadata": {},
   "outputs": [
    {
     "name": "stdout",
     "output_type": "stream",
     "text": [
      "공부한 시간 = 2, 실제 점수 = 81, 예측 점수 = 82\n",
      "공부한 시간 = 4, 실제 점수 = 93, 예측 점수 = 88\n",
      "공부한 시간 = 6, 실제 점수 = 91, 예측 점수 = 94\n",
      "공부한 시간 = 8, 실제 점수 = 97, 예측 점수 = 100\n",
      "3.3166247903554\n"
     ]
    }
   ],
   "source": [
    "# 강사님\n",
    "\n",
    "ab = [3, 76]\n",
    "data = [[2, 81], [4, 93], [6, 91], [8, 97]]\n",
    "\n",
    "x = [i[0] for i in data]\n",
    "y = [i[1] for i in data]\n",
    "\n",
    "def predict(x):\n",
    "    return ab[0] * x + ab[1]\n",
    "\n",
    "# rmse 함수\n",
    "def rmse(p, a):\n",
    "    return np.sqrt( ( (p-a)**2 ).mean() )\n",
    "\n",
    "# rmse 함수를 각 y 값에 대입하여 최종 값을 구하는 함수\n",
    "def rmse_val(predict_result, y):\n",
    "    return rmse(np.array(predict_result), np.array(y))\n",
    "\n",
    "predict_result = []\n",
    "\n",
    "for i in range(len(x)):\n",
    "    predict_result.append(predict(x[i]))\n",
    "    print(\"공부한 시간 = %.f, 실제 점수 = %.f, 예측 점수 = %.f\" % (x[i], y[i], predict(x[i])))\n",
    "    \n",
    "print(rmse_val(predict_result, y))"
   ]
  },
  {
   "cell_type": "markdown",
   "metadata": {},
   "source": [
    "# 텐서플로우 행렬 사용하기 🍜"
   ]
  },
  {
   "cell_type": "code",
   "execution_count": 3,
   "metadata": {},
   "outputs": [
    {
     "name": "stdout",
     "output_type": "stream",
     "text": [
      "(1, 3)\n",
      "(3, 1)\n",
      "(1, 1)\n",
      "Tensor(\"MatMul_1:0\", shape=(1, 1), dtype=float32)\n",
      "[[12.]]\n"
     ]
    }
   ],
   "source": [
    "import tensorflow as tf\n",
    "\n",
    "x = tf.constant([[1.0, 2.0, 3.0]])   ## 상수리스트를 만들어줌\n",
    "w = tf.constant([[2.0], [2.0], [2.0]])\n",
    "y = tf.matmul(x, w)   ## 행렬곱\n",
    "\n",
    "print(x.get_shape())\n",
    "print(w.get_shape())\n",
    "print(y.get_shape())\n",
    "print(y)   ## 값(연산의 결과)이 아닌 tensor(연산을 하기위한)가 나옴\n",
    "\n",
    "sess = tf.Session()   ## 실행을 시켜주는 기계(?) => tensorflow 2.0버전에서는 살아진 개념\n",
    "init = tf.global_variables_initializer()   ## 우리가 만드는 변수 초기화해줘야한다(?) => tensorflow 1.0버전에서는 권장 사항\n",
    "                                           ## => 모든 변수의 초기화가 0인 것은 아니다.\n",
    "sess.run(init)\n",
    "result = sess.run(y)  ## tensor를 run시켜야 값을 얻을 수 있음\n",
    "print(result)"
   ]
  },
  {
   "cell_type": "code",
   "execution_count": 6,
   "metadata": {},
   "outputs": [
    {
     "name": "stdout",
     "output_type": "stream",
     "text": [
      "<class 'tensorflow.python.framework.ops.Tensor'>\n",
      "10.5\n"
     ]
    }
   ],
   "source": [
    "a = tf.constant(7.0, name = 'data1')   ## 변수 지정처럼 이름을 달아줌\n",
    "b = tf.constant(3.0, name = 'data2')\n",
    "c = tf.constant(2.0, name = 'data3')\n",
    "\n",
    "v = a * b / c    ## v는 결과값이 아니라 a * b / c의 그래프를 가지게 됨\n",
    "print(type(v))   ## tensor\n",
    "\n",
    "with tf.Session() as sess:     ## tf.Session을 sess라는 이름으로 가동을 시킴\n",
    "    sess.run(tf.global_variables_initializer())\n",
    "    print(sess.run(v))   ## v 그래프를 세션에서 실행 => 결과값이 나옴"
   ]
  },
  {
   "cell_type": "markdown",
   "metadata": {},
   "source": [
    "### tensorflow의 그래프의 개념\n",
    "=> 데이터들이 그래프에서 흘러가게 해줌       \n",
    "=> 기존은 데이터 할당과 계산이 동시에 일어나지만, tensorflow는 할당과 계산이 따로 일어남"
   ]
  },
  {
   "cell_type": "code",
   "execution_count": 2,
   "metadata": {},
   "outputs": [],
   "source": [
    "import tensorflow as tf"
   ]
  },
  {
   "cell_type": "code",
   "execution_count": 3,
   "metadata": {
    "scrolled": true
   },
   "outputs": [
    {
     "data": {
      "text/plain": [
       "[]"
      ]
     },
     "execution_count": 3,
     "metadata": {},
     "output_type": "execute_result"
    }
   ],
   "source": [
    "tf.get_default_graph().get_operations()\n",
    "## 위에서 돌아가는 세션들의 그래프 정보가 다 뜬다. => kernel을 restart하면 빈 리스트가 뜸"
   ]
  },
  {
   "cell_type": "code",
   "execution_count": 6,
   "metadata": {},
   "outputs": [
    {
     "name": "stdout",
     "output_type": "stream",
     "text": [
      "Tensor(\"data1_1:0\", shape=(), dtype=float32)\n"
     ]
    }
   ],
   "source": [
    "a = tf.constant(7.0, name = 'data1')   ## 변수 지정처럼 이름을 달아줌\n",
    "b = tf.constant(3.0, name = 'data2')\n",
    "c = tf.constant(2.0, name = 'data3')\n",
    "\n",
    "tf.get_default_graph().get_operations()\n",
    "\n",
    "print(a)     # a의 값을 확인 # operation이 실행되기 전까지 텐서 a의 값이 결정되지 않은 상태"
   ]
  },
  {
   "cell_type": "code",
   "execution_count": 7,
   "metadata": {},
   "outputs": [
    {
     "name": "stdout",
     "output_type": "stream",
     "text": [
      "name: \"data1_1\"\n",
      "op: \"Const\"\n",
      "attr {\n",
      "  key: \"dtype\"\n",
      "  value {\n",
      "    type: DT_FLOAT\n",
      "  }\n",
      "}\n",
      "attr {\n",
      "  key: \"value\"\n",
      "  value {\n",
      "    tensor {\n",
      "      dtype: DT_FLOAT\n",
      "      tensor_shape {\n",
      "      }\n",
      "      float_val: 7.0\n",
      "    }\n",
      "  }\n",
      "}\n",
      "\n"
     ]
    }
   ],
   "source": [
    "print(a.op)  # a에 연결된 operation을 확인  # 텐서 a를 출력하는 operation에 접근"
   ]
  },
  {
   "cell_type": "code",
   "execution_count": 5,
   "metadata": {},
   "outputs": [
    {
     "name": "stdout",
     "output_type": "stream",
     "text": [
      "[<tf.Tensor 'data1:0' shape=() dtype=float32>]\n"
     ]
    }
   ],
   "source": [
    "print(a.op.outputs)  # a의 입력값을 확인  # operation a의 출력에 접근하여 확인"
   ]
  },
  {
   "cell_type": "code",
   "execution_count": 8,
   "metadata": {},
   "outputs": [
    {
     "name": "stdout",
     "output_type": "stream",
     "text": [
      "True\n"
     ]
    }
   ],
   "source": [
    "print(a is a.op.outputs[0])  # 텐서 a와 a의 operation 값이 같은지 확인"
   ]
  },
  {
   "cell_type": "code",
   "execution_count": 9,
   "metadata": {},
   "outputs": [
    {
     "name": "stdout",
     "output_type": "stream",
     "text": [
      "7.0\n"
     ]
    }
   ],
   "source": [
    "print(a.op.node_def.attr['value'].tensor.float_val[0])  # a의 operation protocol 버퍼에서의 출력값을 확인해 볼 수 있음"
   ]
  },
  {
   "cell_type": "code",
   "execution_count": 12,
   "metadata": {},
   "outputs": [
    {
     "name": "stdout",
     "output_type": "stream",
     "text": [
      "v.op.inputs =  <tensorflow.python.framework.ops.Operation._InputList object at 0x0000011DDB425C08>\n"
     ]
    },
    {
     "data": {
      "text/plain": [
       "[<tf.Operation 'data1' type=Const>,\n",
       " <tf.Operation 'data2' type=Const>,\n",
       " <tf.Operation 'data3' type=Const>,\n",
       " <tf.Operation 'data1_1' type=Const>,\n",
       " <tf.Operation 'data2_1' type=Const>,\n",
       " <tf.Operation 'data3_1' type=Const>,\n",
       " <tf.Operation 'mul' type=Mul>,\n",
       " <tf.Operation 'truediv' type=RealDiv>,\n",
       " <tf.Operation 'mul_1' type=Mul>,\n",
       " <tf.Operation 'truediv_1' type=RealDiv>,\n",
       " <tf.Operation 'mul_2' type=Mul>,\n",
       " <tf.Operation 'truediv_2' type=RealDiv>]"
      ]
     },
     "execution_count": 12,
     "metadata": {},
     "output_type": "execute_result"
    }
   ],
   "source": [
    "v = a * b / c\n",
    "\n",
    "print(\"v.op.inputs = \", v.op.inputs)     # v의 input을 찍어보면 리스트 객체의 ID가 출력됨\n",
    "tf.get_default_graph().get_operations()"
   ]
  },
  {
   "cell_type": "code",
   "execution_count": 13,
   "metadata": {},
   "outputs": [
    {
     "name": "stdout",
     "output_type": "stream",
     "text": [
      "v.op.outputs =  [<tf.Tensor 'truediv_2:0' shape=() dtype=float32>]\n"
     ]
    }
   ],
   "source": [
    "print(\"v.op.outputs = \", v.op.outputs)  # 텐서 v의 operation의 출력을 확인"
   ]
  },
  {
   "cell_type": "code",
   "execution_count": 14,
   "metadata": {},
   "outputs": [
    {
     "name": "stdout",
     "output_type": "stream",
     "text": [
      "True\n"
     ]
    }
   ],
   "source": [
    "print(v.op.outputs[0] is v)   # 텐서 v와 v의 operation의 출력이 같은지 확인"
   ]
  },
  {
   "cell_type": "code",
   "execution_count": 15,
   "metadata": {},
   "outputs": [
    {
     "name": "stdout",
     "output_type": "stream",
     "text": [
      "name: \"truediv_2\"\n",
      "op: \"RealDiv\"\n",
      "input: \"mul_2\"\n",
      "input: \"data3_1\"\n",
      "attr {\n",
      "  key: \"T\"\n",
      "  value {\n",
      "    type: DT_FLOAT\n",
      "  }\n",
      "}\n",
      "\n"
     ]
    }
   ],
   "source": [
    "print(v.op)  # 텐서 v의 operation의 node를 확인(v.op.node_def)"
   ]
  },
  {
   "cell_type": "markdown",
   "metadata": {},
   "source": [
    "### tensorflow의 tensor는 행렬 형태의 값을 가짐, 여러가지 정보를 가진 class이다!"
   ]
  },
  {
   "cell_type": "markdown",
   "metadata": {},
   "source": [
    "tensor - tensor는 rank(몇 차원?), shape(행렬 형태?), type(타입?) 3가지 구성요소를 가지고 있음\n",
    "\n",
    "- 3                            => 랭크 0 텐서, shape [] 스칼라 (크기만 있고 방향 x)         \n",
    "- [1, 2, 3]                    => 랭크 1 텐서, shape [3] 벡터 (크기와 방향이 존재)         \n",
    "- [[1, 2, 3], [4, 5, 6]]       => 랭크 2 텐서, shape [2, 3] 행렬        \n",
    "- [[[1, 2, 3]], [[7, 8, 9]]]   => 랭크 3 텐서, shape [2, 1, 3] 행렬         "
   ]
  },
  {
   "cell_type": "markdown",
   "metadata": {},
   "source": [
    "- tf.constant : 상수(변하지 않는 수)를 지정하는 자료형\n",
    "- tf.Placeholder : 먼저 만들고 값을 나중에 지정해주는 자료형\n",
    "- tf.Variable : 조건에 따라 값을 바꿔야 하는 경우 사용하는 자료형"
   ]
  },
  {
   "cell_type": "code",
   "execution_count": 18,
   "metadata": {},
   "outputs": [
    {
     "name": "stdout",
     "output_type": "stream",
     "text": [
      "Tensor(\"Const_3:0\", shape=(), dtype=int32) Tensor(\"Const_4:0\", shape=(), dtype=int32) Tensor(\"Const_5:0\", shape=(), dtype=int32) Tensor(\"Mul_4:0\", shape=(), dtype=int32) Tensor(\"Add_1:0\", shape=(), dtype=int32) Tensor(\"Sub_1:0\", shape=(), dtype=int32)\n"
     ]
    }
   ],
   "source": [
    "a = tf.constant(5)\n",
    "b = tf.constant(2)\n",
    "c = tf.constant(3)\n",
    "d = tf.multiply(a, b)   # a * b\n",
    "e = tf.add(c, b)        # c + d\n",
    "f = tf.subtract(d, e)   # d - e\n",
    "print(a, b, c, d, e, f)  # => 그래프만 그려놓은 것이기 때문에 값은 나오지 않음"
   ]
  },
  {
   "cell_type": "code",
   "execution_count": 19,
   "metadata": {},
   "outputs": [
    {
     "name": "stdout",
     "output_type": "stream",
     "text": [
      "outs =  5\n"
     ]
    }
   ],
   "source": [
    "sess = tf.Session()  # session은 실제로 값을 대입한 그래프가 동작하도록 하는 역할을 수행\n",
    "outs = sess.run(f)\n",
    "sess.close()\n",
    "print(\"outs = \", outs)\n",
    "# 프로그램이 커지고 빈번하게 다뤄야 할 때는 초기화 필요!! (가능하면 초기화 필수로 해주자)"
   ]
  },
  {
   "cell_type": "code",
   "execution_count": 20,
   "metadata": {},
   "outputs": [
    {
     "name": "stdout",
     "output_type": "stream",
     "text": [
      "b'Hello, Tensorflow!'\n"
     ]
    }
   ],
   "source": [
    "# 해당 문자열이 들어있는 node 생성\n",
    "hello = tf.constant(\"Hello, Tensorflow!\")\n",
    "\n",
    "# TF 세션 시작\n",
    "sess = tf.Session()\n",
    "\n",
    "# 특정 노드 세션 run\n",
    "print(sess.run(hello))"
   ]
  },
  {
   "cell_type": "code",
   "execution_count": 22,
   "metadata": {},
   "outputs": [
    {
     "name": "stdout",
     "output_type": "stream",
     "text": [
      "150.0\n"
     ]
    }
   ],
   "source": [
    "p_holder1 = tf.placeholder(dtype = tf.float32)   # 값은 지정하지 않고 타입만 지정해줌\n",
    "p_holder2 = tf.placeholder(dtype = tf.float32)\n",
    "p_holder3 = tf.placeholder(dtype = tf.float32)\n",
    "\n",
    "val1 = 5\n",
    "val2 = 10\n",
    "val3 = 3\n",
    "\n",
    "ret_val = p_holder1 * p_holder2 * p_holder3\n",
    "\n",
    "feed_dict_data = {p_holder1 : val1, p_holder2 : val2, p_holder3 : val3}\n",
    "result = sess.run(ret_val, feed_dict = feed_dict_data)   # feed_dict는 옵션!!\n",
    "\n",
    "print(result)"
   ]
  },
  {
   "cell_type": "code",
   "execution_count": 23,
   "metadata": {},
   "outputs": [
    {
     "name": "stdout",
     "output_type": "stream",
     "text": [
      "[[30. 30.]\n",
      " [70. 70.]]\n"
     ]
    }
   ],
   "source": [
    "# placeholder => tf 2.0에서는 사라진 개념\n",
    "\n",
    "I = tf.placeholder(tf.float32, [2, 4])\n",
    "i = [[1, 2, 3, 4], [5, 6, 7, 8]]\n",
    "\n",
    "W = tf.placeholder(tf.float32, [4, 2])\n",
    "w = [[1, 1], [2, 2], [3, 3], [4, 4]]\n",
    "\n",
    "# input데이터와 weight를 행렬곱 수행\n",
    "node = tf.matmul(I, W)\n",
    "\n",
    "sess = tf.Session()\n",
    "\n",
    "print(sess.run(node, feed_dict = {I : i, W : w}))   # feed_dict 욥션이 필요함\n",
    "\n",
    "sess.close()"
   ]
  },
  {
   "cell_type": "code",
   "execution_count": 26,
   "metadata": {},
   "outputs": [
    {
     "name": "stdout",
     "output_type": "stream",
     "text": [
      "[[30 30]\n",
      " [70 70]]\n"
     ]
    }
   ],
   "source": [
    "# Variable\n",
    "\n",
    "I = tf.Variable([[1, 2, 3, 4], [5, 6, 7, 8]], tf.float32)\n",
    "\n",
    "W = tf.Variable([[1, 1], [2, 2], [3, 3], [4, 4]], tf.float32)\n",
    "\n",
    "# input데이터와 weight를 행렬곱 수행\n",
    "node = tf.matmul(I, W)\n",
    "\n",
    "sess = tf.Session()\n",
    "sess.run(tf.global_variables_initializer())  # 초기화 (원치않는 데이터 메모리를 불러오는 것을 피하기위해???)\n",
    "\n",
    "print(sess.run(node))   # feed_dict 욥션이 필요하지 않음\n",
    "\n",
    "sess.close()"
   ]
  },
  {
   "cell_type": "code",
   "execution_count": 28,
   "metadata": {},
   "outputs": [
    {
     "name": "stdout",
     "output_type": "stream",
     "text": [
      "<tf.Variable 'Variable_5:0' shape=() dtype=int32_ref>\n",
      "7\n"
     ]
    }
   ],
   "source": [
    "# 변수를 재할당하는 방법 (스칼라의 경우)\n",
    "\n",
    "x = tf.Variable(5, dtype = tf.int32)\n",
    "print(x)\n",
    "\n",
    "x = tf.assign(x, 7)\n",
    "#z = tf.initialize_all_variables()\n",
    "\n",
    "sess = tf.Session()\n",
    "#sess.run(z)\n",
    "y = sess.run(x)\n",
    "print(y)"
   ]
  },
  {
   "cell_type": "code",
   "execution_count": 30,
   "metadata": {},
   "outputs": [
    {
     "name": "stdout",
     "output_type": "stream",
     "text": [
      "<tf.Variable 'Variable_7:0' shape=() dtype=int32_ref>\n",
      "7\n"
     ]
    }
   ],
   "source": [
    "# 변수를 재할당하는 방법 (스칼라의 경우)\n",
    "\n",
    "x = tf.Variable(5, dtype = tf.int32)\n",
    "print(x)\n",
    "\n",
    "x = tf.assign(x, 7)\n",
    "z = tf.initialize_all_variables()\n",
    "\n",
    "sess = tf.Session()\n",
    "sess.run(z)\n",
    "y = sess.run(x)\n",
    "print(y)"
   ]
  },
  {
   "cell_type": "markdown",
   "metadata": {},
   "source": [
    "# 경사하강법 🍣\n",
    "다항(다중) 일 때 기울기를 구하는 방법"
   ]
  },
  {
   "cell_type": "code",
   "execution_count": 1,
   "metadata": {},
   "outputs": [],
   "source": [
    "import tensorflow as tf"
   ]
  },
  {
   "cell_type": "code",
   "execution_count": 2,
   "metadata": {},
   "outputs": [],
   "source": [
    "# x, y 의 데이터 값\n",
    "data = [[2, 81], [4, 93], [6, 91], [8, 97]]\n",
    "x_data = [x_row[0] for x_row in data]\n",
    "y_data = [y_row[1] for y_row in data]\n",
    "\n",
    "# 기울기 a와 y절편 b의 값을 임의로 정한다.\n",
    "# 단, 기울기의 범위는 0 ~ 10 사이이며, y절편은 0 ~ 100 사이에서 변하게 한다.\n",
    "# 정수 전체의 범위를 주면 시간이 너무 오래 걸림.\n",
    "# 더 복잡한 분석을 할 때, 기울기가 수렴을 안하면 범위를 바꿔줘야 한다.\n",
    "a = tf.Variable(tf.random_uniform([1], 0, 10, dtype = tf.float64, seed = 0))\n",
    "b = tf.Variable(tf.random_uniform([1], 0, 100, dtype = tf.float64, seed = 0))\n",
    "\n",
    "# y에 대한 일차 방정식 ax + b의 식을 세운다.\n",
    "y = a * x_data + b"
   ]
  },
  {
   "cell_type": "code",
   "execution_count": 4,
   "metadata": {},
   "outputs": [
    {
     "name": "stdout",
     "output_type": "stream",
     "text": [
      "Epoch : 0, RMSE = 30.2139, 기울기 a = 7.5235, y절편 b = 80.5984\n",
      "Epoch : 100, RMSE = 2.8860, 기울기 a = 2.2299, y절편 b = 79.4181\n",
      "Epoch : 200, RMSE = 2.8826, 기울기 a = 2.2601, y절편 b = 79.2379\n",
      "Epoch : 300, RMSE = 2.8815, 기울기 a = 2.2773, y절편 b = 79.1353\n",
      "Epoch : 400, RMSE = 2.8811, 기울기 a = 2.2871, y절편 b = 79.0770\n",
      "Epoch : 500, RMSE = 2.8810, 기울기 a = 2.2927, y절편 b = 79.0438\n",
      "Epoch : 600, RMSE = 2.8810, 기울기 a = 2.2958, y절편 b = 79.0249\n",
      "Epoch : 700, RMSE = 2.8810, 기울기 a = 2.2976, y절편 b = 79.0142\n",
      "Epoch : 800, RMSE = 2.8810, 기울기 a = 2.2987, y절편 b = 79.0081\n",
      "Epoch : 900, RMSE = 2.8810, 기울기 a = 2.2992, y절편 b = 79.0046\n",
      "Epoch : 1000, RMSE = 2.8810, 기울기 a = 2.2996, y절편 b = 79.0026\n",
      "Epoch : 1100, RMSE = 2.8810, 기울기 a = 2.2998, y절편 b = 79.0015\n",
      "Epoch : 1200, RMSE = 2.8810, 기울기 a = 2.2999, y절편 b = 79.0008\n",
      "Epoch : 1300, RMSE = 2.8810, 기울기 a = 2.2999, y절편 b = 79.0005\n",
      "Epoch : 1400, RMSE = 2.8810, 기울기 a = 2.3000, y절편 b = 79.0003\n",
      "Epoch : 1500, RMSE = 2.8810, 기울기 a = 2.3000, y절편 b = 79.0002\n",
      "Epoch : 1600, RMSE = 2.8810, 기울기 a = 2.3000, y절편 b = 79.0001\n",
      "Epoch : 1700, RMSE = 2.8810, 기울기 a = 2.3000, y절편 b = 79.0001\n",
      "Epoch : 1800, RMSE = 2.8810, 기울기 a = 2.3000, y절편 b = 79.0000\n",
      "Epoch : 1900, RMSE = 2.8810, 기울기 a = 2.3000, y절편 b = 79.0000\n",
      "Epoch : 2000, RMSE = 2.8810, 기울기 a = 2.3000, y절편 b = 79.0000\n"
     ]
    }
   ],
   "source": [
    "# 텐서플로우 RMSE 함수\n",
    "rmse = tf.sqrt(tf.reduce_mean(tf.square( y - y_data)))\n",
    "\n",
    "# 학습률 값  => 얼만큼 이동시킬지를 정해준다. (너무 크게 잡으면 수렴하지 않고 발산 / 너무 작게 잡으면 오래걸림)\n",
    "# 기울기 부호 양수면 왼쪽, 음수면 오른쪽으로 이동\n",
    "learning_rate = 0.1  \n",
    "\n",
    "# RMSE 값을 최소로 하는 값 찾기\n",
    "gradient_decent = tf.train.GradientDescentOptimizer(learning_rate).minimize(rmse)  # a, b를 계속 조정하면서 그래프를 생성\n",
    "\n",
    "# 텐서플로우를 이용한 학습\n",
    "with tf.Session() as sess:\n",
    "    \n",
    "    # 변수 초기화\n",
    "    sess.run(tf.global_variables_initializer())\n",
    "    \n",
    "    # 2001번 실행 (0번째를 포함하므로)\n",
    "    for step in range(2001):\n",
    "        sess.run(gradient_decent)\n",
    "        \n",
    "        # 100번마다 결과 출력\n",
    "        if step % 100 == 0:\n",
    "            print(\"Epoch : %.f, RMSE = %.04f, 기울기 a = %.4f, y절편 b = %.4f\" %\n",
    "                 (step, sess.run(rmse), sess.run(a), sess.run(b)))   😊🍕🍔🍜🍣🦪🍻🍅💕"
   ]
  },
  {
   "cell_type": "code",
   "execution_count": 5,
   "metadata": {},
   "outputs": [
    {
     "name": "stdout",
     "output_type": "stream",
     "text": [
      "83.6\n"
     ]
    }
   ],
   "source": [
    "# 실제 y값은 81\n",
    "\n",
    "# epoch 2000일 때\n",
    "y = 2.3000 * 2 + 79.0000\n",
    "print(y)"
   ]
  },
  {
   "cell_type": "code",
   "execution_count": 6,
   "metadata": {},
   "outputs": [
    {
     "name": "stdout",
     "output_type": "stream",
     "text": [
      "88.20004\n"
     ]
    }
   ],
   "source": [
    "# 실제 y값은 93\n",
    "\n",
    "# epoch 2000일 때\n",
    "y = 2.30001 * 4 + 79.0000\n",
    "print(y)"
   ]
  },
  {
   "cell_type": "code",
   "execution_count": null,
   "metadata": {},
   "outputs": [],
   "source": []
  },
  {
   "cell_type": "code",
   "execution_count": null,
   "metadata": {},
   "outputs": [],
   "source": []
  },
  {
   "cell_type": "code",
   "execution_count": null,
   "metadata": {},
   "outputs": [],
   "source": []
  },
  {
   "cell_type": "code",
   "execution_count": null,
   "metadata": {},
   "outputs": [],
   "source": []
  }
 ],
 "metadata": {
  "kernelspec": {
   "display_name": "Python 3",
   "language": "python",
   "name": "python3"
  },
  "language_info": {
   "codemirror_mode": {
    "name": "ipython",
    "version": 3
   },
   "file_extension": ".py",
   "mimetype": "text/x-python",
   "name": "python",
   "nbconvert_exporter": "python",
   "pygments_lexer": "ipython3",
   "version": "3.7.7"
  }
 },
 "nbformat": 4,
 "nbformat_minor": 4
}
