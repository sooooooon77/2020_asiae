{
 "cells": [
  {
   "cell_type": "code",
   "execution_count": 3,
   "metadata": {},
   "outputs": [],
   "source": [
    "from bs4 import BeautifulSoup\n",
    "import requests"
   ]
  },
  {
   "cell_type": "code",
   "execution_count": 12,
   "metadata": {},
   "outputs": [
    {
     "data": {
      "text/plain": [
       "<Response [200]>"
      ]
     },
     "execution_count": 12,
     "metadata": {},
     "output_type": "execute_result"
    }
   ],
   "source": [
    "resp = requests.get(\"https://www.yanolja.com/search/%EC%A0%9C%EC%A3%BC%EB%8F%84?placeListType=search&keyword=%EC%A0%9C%EC%A3%BC%EB%8F%84\")     ## 위의 코드와 같은 코드\n",
    "resp"
   ]
  },
  {
   "cell_type": "code",
   "execution_count": 6,
   "metadata": {},
   "outputs": [
    {
     "data": {
      "text/plain": [
       "<Response [200]>"
      ]
     },
     "execution_count": 6,
     "metadata": {},
     "output_type": "execute_result"
    }
   ],
   "source": [
    "url = \"https://www.yanolja.com/search/%EC%A0%9C%EC%A3%BC%EB%8F%84\"\n",
    "params = {\n",
    "    'placeListType' : 'search',\n",
    "    'keyword' : '%EC%A0%9C%EC%A3%BC%EB%8F%84',\n",
    "}\n",
    "\n",
    "resp = requests.get(url, params = params)\n",
    "resp"
   ]
  },
  {
   "cell_type": "code",
   "execution_count": 13,
   "metadata": {},
   "outputs": [
    {
     "data": {
      "text/plain": [
       "bs4.BeautifulSoup"
      ]
     },
     "execution_count": 13,
     "metadata": {},
     "output_type": "execute_result"
    }
   ],
   "source": [
    "soup = BeautifulSoup(resp.text)\n",
    "type(soup)"
   ]
  },
  {
   "cell_type": "code",
   "execution_count": 16,
   "metadata": {},
   "outputs": [
    {
     "name": "stdout",
     "output_type": "stream",
     "text": [
      "[]\n"
     ]
    }
   ],
   "source": [
    "#ul_tags = soup.find('div', class_ = '_31kM9R')\n",
    "\n",
    "\n",
    "# titles = soup.select('ul.type01>li>dl>dt>a')\n",
    "# descs = soup.select('ul.type01>li>dl>dd:nth-child(3)')\n",
    "\n",
    "item_li = soup.find_all('div', class_ = 'item-list')\n",
    "#print(len(news_li))\n",
    "print(item_li)"
   ]
  },
  {
   "cell_type": "code",
   "execution_count": null,
   "metadata": {},
   "outputs": [],
   "source": [
    "result_list = []\n",
    "\n",
    "for news in news_li:\n",
    "    title_tag = news.find('a', class_ = '_sp_each_title')\n",
    "    title = title_tag.text\n",
    "    url = title_tag.get('href')\n",
    "    \n",
    "    desc = news.find_all('dd')\n",
    "    desc = desc[1].text           ### 위에서 찾은 모든 dd 중에서 두 번째 dd의 text (0,1,2,,,,,)\n",
    "    \n",
    "    result_list.append({\n",
    "        'title':title,\n",
    "        'url':url,\n",
    "        'desc':desc\n",
    "    })\n",
    "\n",
    "print(len(result_list))\n",
    "result_list"
   ]
  },
  {
   "cell_type": "code",
   "execution_count": null,
   "metadata": {},
   "outputs": [],
   "source": []
  },
  {
   "cell_type": "code",
   "execution_count": null,
   "metadata": {},
   "outputs": [],
   "source": []
  },
  {
   "cell_type": "code",
   "execution_count": null,
   "metadata": {},
   "outputs": [],
   "source": []
  },
  {
   "cell_type": "code",
   "execution_count": null,
   "metadata": {},
   "outputs": [],
   "source": []
  }
 ],
 "metadata": {
  "kernelspec": {
   "display_name": "Python 3",
   "language": "python",
   "name": "python3"
  },
  "language_info": {
   "codemirror_mode": {
    "name": "ipython",
    "version": 3
   },
   "file_extension": ".py",
   "mimetype": "text/x-python",
   "name": "python",
   "nbconvert_exporter": "python",
   "pygments_lexer": "ipython3",
   "version": "3.7.3"
  }
 },
 "nbformat": 4,
 "nbformat_minor": 2
}
